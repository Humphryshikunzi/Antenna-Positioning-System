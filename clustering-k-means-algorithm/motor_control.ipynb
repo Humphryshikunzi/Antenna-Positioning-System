{
 "cells": [
  {
   "cell_type": "code",
   "execution_count": null,
   "id": "39a69452",
   "metadata": {},
   "outputs": [],
   "source": [
    "import serial\n",
    "import time\n",
    "\n",
    "\n",
    "data = serial.Serial ('COM9',9600)\n",
    "\n",
    "def data_read(bearingDegrees):\n",
    "    c =bearingDegrees\n",
    "    print('Bearing is {}\\n'.format(c))\n",
    "    #data.write(c)\n",
    "    data.write(bytes(c, 'utf-8'))\n",
    "    print(c)\n",
    "\n",
    "    time.sleep(0.1)\n",
    "\n",
    "    read = data.read()\n",
    "    print(\"The current orientation is: \")\n",
    "    read = int.from_bytes(read, \"big\")\n",
    "    return read\n",
    "while True:\n",
    "    bearingDegrees = input(\"Enter a degree: \") # Taking input from user\n",
    "    print(type(bearingDegrees))\n",
    "    c = data_read(bearingDegrees)\n",
    "    print(c) # printing the value"
   ]
  },
  {
   "cell_type": "code",
   "execution_count": null,
   "id": "52f5af2d",
   "metadata": {},
   "outputs": [],
   "source": []
  }
 ],
 "metadata": {
  "kernelspec": {
   "display_name": "Python 3 (ipykernel)",
   "language": "python",
   "name": "python3"
  },
  "language_info": {
   "codemirror_mode": {
    "name": "ipython",
    "version": 3
   },
   "file_extension": ".py",
   "mimetype": "text/x-python",
   "name": "python",
   "nbconvert_exporter": "python",
   "pygments_lexer": "ipython3",
   "version": "3.8.3"
  }
 },
 "nbformat": 4,
 "nbformat_minor": 5
}
