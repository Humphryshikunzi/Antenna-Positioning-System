{
 "cells": [
  {
   "cell_type": "code",
   "execution_count": 2,
   "id": "fa2cb746",
   "metadata": {},
   "outputs": [
    {
     "name": "stdout",
     "output_type": "stream",
     "text": [
      "Collecting pyserial\n",
      "  Downloading pyserial-3.5-py2.py3-none-any.whl (90 kB)\n",
      "Installing collected packages: pyserial\n",
      "Successfully installed pyserial-3.5\n"
     ]
    },
    {
     "name": "stderr",
     "output_type": "stream",
     "text": [
      "WARNING: You are using pip version 21.3.1; however, version 22.0.2 is available.\n",
      "You should consider upgrading via the 'C:\\Users\\humph\\Anaconda3\\python.exe -m pip install --upgrade pip' command.\n"
     ]
    }
   ],
   "source": [
    "!pip install pyserial"
   ]
  },
  {
   "cell_type": "code",
   "execution_count": 2,
   "id": "215ad988",
   "metadata": {},
   "outputs": [
    {
     "name": "stdout",
     "output_type": "stream",
     "text": [
      "Going for process, round 1\n",
      "Printing the first 5 elements\n",
      "\n",
      "[{'uniqueDeviceId': 'Infinix X559_045970be-e4d4-4486-9a3b-2954605fbf5b', 'lat': -0.3991476, 'long': 36.9627043, 'alt': 1763.2000732421875, 'accuracyGPS': 20, 'directionEastWest': 'E', 'directionNorthSouth': 'S', 'accuracy': None, 'accX': 0, 'accY': 0, 'accZ': 0, 'rssi': 0, 'date': '2022-01-31T21:00:00', 'time': '16:58:18', 'id': 727}, {'uniqueDeviceId': 'Infinix X559_e8f64b55-3aab-4fc4-8ada-4c96efc8b683', 'lat': -0.3991476, 'long': 36.9627043, 'alt': 1763.2000732421875, 'accuracyGPS': 20, 'directionEastWest': 'E', 'directionNorthSouth': 'S', 'accuracy': None, 'accX': 0, 'accY': 0, 'accZ': 0, 'rssi': 0, 'date': '2022-01-31T21:00:00', 'time': '16:58:17', 'id': 726}, {'uniqueDeviceId': 'Infinix X559_65e50440-8243-4161-877a-9e95407766f6', 'lat': -0.399143, 'long': 36.9627101, 'alt': 1763.2000732421875, 'accuracyGPS': 20, 'directionEastWest': 'E', 'directionNorthSouth': 'S', 'accuracy': None, 'accX': 0, 'accY': 0, 'accZ': 0, 'rssi': 0, 'date': '2022-01-31T21:00:00', 'time': '16:57:57', 'id': 725}, {'uniqueDeviceId': 'Infinix X559_e7ab989d-cbdd-41a1-a044-9b2dd6559fc5', 'lat': -0.399143, 'long': 36.9627101, 'alt': 1763.2000732421875, 'accuracyGPS': 20, 'directionEastWest': 'E', 'directionNorthSouth': 'S', 'accuracy': None, 'accX': 0, 'accY': 0, 'accZ': 0, 'rssi': 0, 'date': '2022-01-31T21:00:00', 'time': '16:57:57', 'id': 724}, {'uniqueDeviceId': 'Infinix X559_f29af38f-142e-4eb1-95b3-e5e0ae299dbd', 'lat': -0.3991381, 'long': 36.962699, 'alt': 1763.2000732421875, 'accuracyGPS': 20, 'directionEastWest': 'E', 'directionNorthSouth': 'S', 'accuracy': None, 'accX': 0, 'accY': 0, 'accZ': 0, 'rssi': 0, 'date': '2022-01-31T21:00:00', 'time': '16:57:37', 'id': 723}]\n",
      "Ploting Scatter Plot\n",
      "\n",
      "Determining the optimul number of clusters using the elbow method\n",
      "\n"
     ]
    },
    {
     "data": {
      "image/png": "[encoded data removed]",
      "text/plain": [
       "<Figure size 432x288 with 1 Axes>"
      ]
     },
     "metadata": {
      "needs_background": "light"
     },
     "output_type": "display_data"
    },
    {
     "name": "stdout",
     "output_type": "stream",
     "text": [
      "Determining the centroid for each clustern\n",
      "\n"
     ]
    },
    {
     "data": {
      "image/png": "[encoded data removed]",
      "text/plain": [
       "<Figure size 432x288 with 1 Axes>"
      ]
     },
     "metadata": {
      "needs_background": "light"
     },
     "output_type": "display_data"
    },
    {
     "name": "stdout",
     "output_type": "stream",
     "text": [
      "Calculating the bearing of the centroid of the biggest cluster\n",
      "\n",
      "The Bearing of the Centroid of the biggest Cluster is 11.529975303027594\n",
      "Sending the Bearing of the Biggest Cluster Centroid to Arduino\n",
      "\n"
     ]
    },
    {
     "ename": "SerialException",
     "evalue": "could not open port 'COM9': PermissionError(13, 'Access is denied.', None, 5)",
     "output_type": "error",
     "traceback": [
      "\u001b[1;31m---------------------------------------------------------------------------\u001b[0m",
      "\u001b[1;31mSerialException\u001b[0m                           Traceback (most recent call last)",
      "\u001b[1;32m~\\AppData\\Local\\Temp/ipykernel_21996/1191812060.py\u001b[0m in \u001b[0;36m<module>\u001b[1;34m\u001b[0m\n\u001b[0;32m     63\u001b[0m     \u001b[0mprint\u001b[0m\u001b[1;33m(\u001b[0m\u001b[1;34m'The Bearing of the Centroid of the biggest Cluster is {}'\u001b[0m\u001b[1;33m.\u001b[0m\u001b[0mformat\u001b[0m\u001b[1;33m(\u001b[0m\u001b[0mbearing_degrees\u001b[0m\u001b[1;33m)\u001b[0m\u001b[1;33m)\u001b[0m\u001b[1;33m\u001b[0m\u001b[1;33m\u001b[0m\u001b[0m\n\u001b[0;32m     64\u001b[0m     \u001b[0mprint\u001b[0m\u001b[1;33m(\u001b[0m\u001b[1;34m'Sending the Bearing of the Biggest Cluster Centroid to Arduino\\n'\u001b[0m\u001b[1;33m)\u001b[0m\u001b[1;33m\u001b[0m\u001b[1;33m\u001b[0m\u001b[0m\n\u001b[1;32m---> 65\u001b[1;33m     \u001b[0marduino\u001b[0m \u001b[1;33m=\u001b[0m \u001b[0mserial\u001b[0m\u001b[1;33m.\u001b[0m\u001b[0mSerial\u001b[0m\u001b[1;33m(\u001b[0m\u001b[0mport\u001b[0m\u001b[1;33m=\u001b[0m\u001b[1;34m'COM9'\u001b[0m\u001b[1;33m,\u001b[0m \u001b[0mbaudrate\u001b[0m\u001b[1;33m=\u001b[0m\u001b[1;36m115200\u001b[0m\u001b[1;33m,\u001b[0m \u001b[0mtimeout\u001b[0m\u001b[1;33m=\u001b[0m\u001b[1;36m.1\u001b[0m\u001b[1;33m)\u001b[0m\u001b[1;33m\u001b[0m\u001b[1;33m\u001b[0m\u001b[0m\n\u001b[0m\u001b[0;32m     66\u001b[0m     \u001b[0marduino\u001b[0m\u001b[1;33m.\u001b[0m\u001b[0mwrite\u001b[0m\u001b[1;33m(\u001b[0m\u001b[0mbytes\u001b[0m\u001b[1;33m(\u001b[0m\u001b[0mbearing_degrees\u001b[0m\u001b[1;33m,\u001b[0m \u001b[1;34m'utf-8'\u001b[0m\u001b[1;33m)\u001b[0m\u001b[1;33m)\u001b[0m\u001b[1;33m\u001b[0m\u001b[1;33m\u001b[0m\u001b[0m\n\u001b[0;32m     67\u001b[0m     \u001b[0mprint\u001b[0m\u001b[1;33m(\u001b[0m\u001b[1;34m'Data sent to Arduino, waiting for response\\n'\u001b[0m\u001b[1;33m)\u001b[0m\u001b[1;33m\u001b[0m\u001b[1;33m\u001b[0m\u001b[0m\n",
      "\u001b[1;32m~\\Anaconda3\\lib\\site-packages\\serial\\serialwin32.py\u001b[0m in \u001b[0;36m__init__\u001b[1;34m(self, *args, **kwargs)\u001b[0m\n\u001b[0;32m     31\u001b[0m         \u001b[0mself\u001b[0m\u001b[1;33m.\u001b[0m\u001b[0m_overlapped_read\u001b[0m \u001b[1;33m=\u001b[0m \u001b[1;32mNone\u001b[0m\u001b[1;33m\u001b[0m\u001b[1;33m\u001b[0m\u001b[0m\n\u001b[0;32m     32\u001b[0m         \u001b[0mself\u001b[0m\u001b[1;33m.\u001b[0m\u001b[0m_overlapped_write\u001b[0m \u001b[1;33m=\u001b[0m \u001b[1;32mNone\u001b[0m\u001b[1;33m\u001b[0m\u001b[1;33m\u001b[0m\u001b[0m\n\u001b[1;32m---> 33\u001b[1;33m         \u001b[0msuper\u001b[0m\u001b[1;33m(\u001b[0m\u001b[0mSerial\u001b[0m\u001b[1;33m,\u001b[0m \u001b[0mself\u001b[0m\u001b[1;33m)\u001b[0m\u001b[1;33m.\u001b[0m\u001b[0m__init__\u001b[0m\u001b[1;33m(\u001b[0m\u001b[1;33m*\u001b[0m\u001b[0margs\u001b[0m\u001b[1;33m,\u001b[0m \u001b[1;33m**\u001b[0m\u001b[0mkwargs\u001b[0m\u001b[1;33m)\u001b[0m\u001b[1;33m\u001b[0m\u001b[1;33m\u001b[0m\u001b[0m\n\u001b[0m\u001b[0;32m     34\u001b[0m \u001b[1;33m\u001b[0m\u001b[0m\n\u001b[0;32m     35\u001b[0m     \u001b[1;32mdef\u001b[0m \u001b[0mopen\u001b[0m\u001b[1;33m(\u001b[0m\u001b[0mself\u001b[0m\u001b[1;33m)\u001b[0m\u001b[1;33m:\u001b[0m\u001b[1;33m\u001b[0m\u001b[1;33m\u001b[0m\u001b[0m\n",
      "\u001b[1;32m~\\Anaconda3\\lib\\site-packages\\serial\\serialutil.py\u001b[0m in \u001b[0;36m__init__\u001b[1;34m(self, port, baudrate, bytesize, parity, stopbits, timeout, xonxoff, rtscts, write_timeout, dsrdtr, inter_byte_timeout, exclusive, **kwargs)\u001b[0m\n\u001b[0;32m    242\u001b[0m \u001b[1;33m\u001b[0m\u001b[0m\n\u001b[0;32m    243\u001b[0m         \u001b[1;32mif\u001b[0m \u001b[0mport\u001b[0m \u001b[1;32mis\u001b[0m \u001b[1;32mnot\u001b[0m \u001b[1;32mNone\u001b[0m\u001b[1;33m:\u001b[0m\u001b[1;33m\u001b[0m\u001b[1;33m\u001b[0m\u001b[0m\n\u001b[1;32m--> 244\u001b[1;33m             \u001b[0mself\u001b[0m\u001b[1;33m.\u001b[0m\u001b[0mopen\u001b[0m\u001b[1;33m(\u001b[0m\u001b[1;33m)\u001b[0m\u001b[1;33m\u001b[0m\u001b[1;33m\u001b[0m\u001b[0m\n\u001b[0m\u001b[0;32m    245\u001b[0m \u001b[1;33m\u001b[0m\u001b[0m\n\u001b[0;32m    246\u001b[0m     \u001b[1;31m#  -  -  -  -  -  -  -  -  -  -  -  -  -  -  -  -  -  -  -  -  -  -  -  -\u001b[0m\u001b[1;33m\u001b[0m\u001b[1;33m\u001b[0m\u001b[1;33m\u001b[0m\u001b[0m\n",
      "\u001b[1;32m~\\Anaconda3\\lib\\site-packages\\serial\\serialwin32.py\u001b[0m in \u001b[0;36mopen\u001b[1;34m(self)\u001b[0m\n\u001b[0;32m     62\u001b[0m         \u001b[1;32mif\u001b[0m \u001b[0mself\u001b[0m\u001b[1;33m.\u001b[0m\u001b[0m_port_handle\u001b[0m \u001b[1;33m==\u001b[0m \u001b[0mwin32\u001b[0m\u001b[1;33m.\u001b[0m\u001b[0mINVALID_HANDLE_VALUE\u001b[0m\u001b[1;33m:\u001b[0m\u001b[1;33m\u001b[0m\u001b[1;33m\u001b[0m\u001b[0m\n\u001b[0;32m     63\u001b[0m             \u001b[0mself\u001b[0m\u001b[1;33m.\u001b[0m\u001b[0m_port_handle\u001b[0m \u001b[1;33m=\u001b[0m \u001b[1;32mNone\u001b[0m    \u001b[1;31m# 'cause __del__ is called anyway\u001b[0m\u001b[1;33m\u001b[0m\u001b[1;33m\u001b[0m\u001b[0m\n\u001b[1;32m---> 64\u001b[1;33m             \u001b[1;32mraise\u001b[0m \u001b[0mSerialException\u001b[0m\u001b[1;33m(\u001b[0m\u001b[1;34m\"could not open port {!r}: {!r}\"\u001b[0m\u001b[1;33m.\u001b[0m\u001b[0mformat\u001b[0m\u001b[1;33m(\u001b[0m\u001b[0mself\u001b[0m\u001b[1;33m.\u001b[0m\u001b[0mportstr\u001b[0m\u001b[1;33m,\u001b[0m \u001b[0mctypes\u001b[0m\u001b[1;33m.\u001b[0m\u001b[0mWinError\u001b[0m\u001b[1;33m(\u001b[0m\u001b[1;33m)\u001b[0m\u001b[1;33m)\u001b[0m\u001b[1;33m)\u001b[0m\u001b[1;33m\u001b[0m\u001b[1;33m\u001b[0m\u001b[0m\n\u001b[0m\u001b[0;32m     65\u001b[0m \u001b[1;33m\u001b[0m\u001b[0m\n\u001b[0;32m     66\u001b[0m         \u001b[1;32mtry\u001b[0m\u001b[1;33m:\u001b[0m\u001b[1;33m\u001b[0m\u001b[1;33m\u001b[0m\u001b[0m\n",
      "\u001b[1;31mSerialException\u001b[0m: could not open port 'COM9': PermissionError(13, 'Access is denied.', None, 5)"
     ]
    }
   ],
   "source": [
    "import requests\n",
    "import json\n",
    "import random\n",
    "import numpy as np\n",
    "import pandas as pd\n",
    "import math\n",
    "import time\n",
    "import serial\n",
    "\n",
    "from matplotlib import pyplot as plt\n",
    "from sklearn.cluster import KMeans\n",
    "from collections import Counter\n",
    "from numpy import arctan2,random,sin,cos,degrees\n",
    "\n",
    "url = 'http://odapapi.defrilab.com/api/Odap/recentMessages'\n",
    "count=1\n",
    "\n",
    "while(True):\n",
    "    print('Going for process, round {}'.format(count))\n",
    "    response = requests.get(url)\n",
    "    data = response.json()\n",
    "    print('Printing the first 5 elements\\n')\n",
    "    print(data[:5])\n",
    "    loc_compact  = []\n",
    "    for loc in data:\n",
    "        loc_compact.append([loc['lat'],loc['long']])\n",
    "    loc_compact = np.array(loc_compact)\n",
    "    print('Ploting Scatter Plot\\n')\n",
    "    plt.scatter(loc_compact[:,0], loc_compact[:,1])\n",
    "    wcss = []\n",
    "    print('Determining the optimul number of clusters using the elbow method\\n')\n",
    "    for i in range(1, 11):\n",
    "        kmeans = KMeans(n_clusters=i, init='k-means++', max_iter=len(loc_compact), n_init=10, random_state=0)\n",
    "        kmeans.fit(loc_compact)\n",
    "        wcss.append(kmeans.inertia_)\n",
    "    plt.plot(range(1, 11), wcss)\n",
    "    plt.title('Elbow Method')\n",
    "    plt.xlabel('Number of clusters')\n",
    "    plt.ylabel('WCSS')\n",
    "    plt.show()  \n",
    "    print('Determining the centroid for each clustern\\n')\n",
    "    kmeans = KMeans(n_clusters=2, init='k-means++', max_iter=len(loc_compact), n_init=10, random_state=0)\n",
    "    pred_y = kmeans.fit_predict(loc_compact)\n",
    "    plt.scatter(loc_compact[:,0], loc_compact[:,1])\n",
    "    plt.scatter(kmeans.cluster_centers_[:, 0], kmeans.cluster_centers_[:, 1], s=len(loc_compact), c='red')\n",
    "    plt.show()\n",
    "    centroids = kmeans.cluster_centers_\n",
    "    labels =list(kmeans.labels_)\n",
    "    classes = list(set(labels))\n",
    "    unique = Counter(labels)\n",
    "    bigger_cluster = max(unique, key=unique.get)\n",
    "    centroids = centroids[bigger_cluster]\n",
    "    lat = centroids[0]\n",
    "    long = centroids[1]\n",
    "    print('Calculating the bearing of the centroid of the biggest cluster\\n')\n",
    "    a = {'lat': -0.399754, 'long': 36.96256867}\n",
    "    b = {'lat': lat, 'long': long}\n",
    "    dL = b['long'] - a['long']\n",
    "    X = cos(b['lat'])* sin(dL)\n",
    "    Y = cos(a['lat'])*sin(b['lat']) - sin(a['lat'])*cos(b['lat'])* cos(dL)\n",
    "    bearing_rad = arctan2(X,Y)\n",
    "    bearing_degrees = bearing_rad * (180/math.pi)\n",
    "    print('The Bearing of the Centroid of the biggest Cluster is {}'.format(bearing_degrees))\n",
    "    print('Sending the Bearing of the Biggest Cluster Centroid to Arduino\\n')\n",
    "    arduino = serial.Serial(port='COM9', baudrate=115200, timeout=.1)\n",
    "    arduino.write(bytes(bearing_degrees, 'utf-8'))    \n",
    "    print('Data sent to Arduino, waiting for response\\n')\n",
    "    time.sleep(0.05)\n",
    "    response = arduino.readline()\n",
    "    if(response=='ok'):\n",
    "        print('Arduino just responded with Ok, data transmission was successful!\\n')\n",
    "        print('Process round {} completed successfully.'.format(count))\n",
    "    else:\n",
    "        print('Arduino is not responding for now, we wil try re-establish connection the next round, hope She will respond then\\n')\n",
    "    count +=1\n",
    "    print('Going into sleep for 6 seconds before redoing the whole process\\n')\n",
    "    time.sleep(15)"
   ]
  },
  {
   "cell_type": "code",
   "execution_count": null,
   "id": "0dd9a328",
   "metadata": {},
   "outputs": [],
   "source": []
  },
  {
   "cell_type": "code",
   "execution_count": null,
   "id": "7ba06351",
   "metadata": {},
   "outputs": [],
   "source": []
  }
 ],
 "metadata": {
  "kernelspec": {
   "display_name": "Python 3 (ipykernel)",
   "language": "python",
   "name": "python3"
  },
  "language_info": {
   "codemirror_mode": {
    "name": "ipython",
    "version": 3
   },
   "file_extension": ".py",
   "mimetype": "text/x-python",
   "name": "python",
   "nbconvert_exporter": "python",
   "pygments_lexer": "ipython3",
   "version": "3.9.7"
  }
 },
 "nbformat": 4,
 "nbformat_minor": 5
}
