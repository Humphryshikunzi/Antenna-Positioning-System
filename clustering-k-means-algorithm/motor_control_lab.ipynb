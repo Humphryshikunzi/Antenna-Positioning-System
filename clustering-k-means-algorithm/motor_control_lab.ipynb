{
 "cells": [
  {
   "cell_type": "code",
   "execution_count": 1,
   "id": "39a69452",
   "metadata": {},
   "outputs": [
    {
     "name": "stdout",
     "output_type": "stream",
     "text": [
      "Going for process, round 1\n",
      "\n",
      "Printing the last 5 data points received\n",
      "\n",
      "[{'angle': 150, 'id': 10}, {'angle': 120, 'id': 9}, {'angle': 45, 'id': 8}, {'angle': 315, 'id': 7}, {'angle': 120, 'id': 6}]\n",
      "\n",
      "The Bearing of the Biggest Cluster Centroid is 150, sending it to Arduino\n",
      "\n",
      "Data transmission was successful\n",
      "\n",
      "Bearing is 150\n",
      "\n",
      "150\n",
      "The current orientation is: \n"
     ]
    },
    {
     "ename": "NameError",
     "evalue": "name 'c' is not defined",
     "output_type": "error",
     "traceback": [
      "\u001b[1;31m---------------------------------------------------------------------------\u001b[0m",
      "\u001b[1;31mNameError\u001b[0m                                 Traceback (most recent call last)",
      "\u001b[1;32m~\\AppData\\Local\\Temp/ipykernel_15224/2629539505.py\u001b[0m in \u001b[0;36m<module>\u001b[1;34m\u001b[0m\n\u001b[0;32m     33\u001b[0m     \u001b[0mtime\u001b[0m\u001b[1;33m.\u001b[0m\u001b[0msleep\u001b[0m\u001b[1;33m(\u001b[0m\u001b[1;36m2\u001b[0m\u001b[1;33m)\u001b[0m\u001b[1;33m\u001b[0m\u001b[1;33m\u001b[0m\u001b[0m\n\u001b[0;32m     34\u001b[0m     \u001b[0mdata_read\u001b[0m\u001b[1;33m(\u001b[0m\u001b[0mbearingDegrees\u001b[0m\u001b[1;33m)\u001b[0m\u001b[1;33m\u001b[0m\u001b[1;33m\u001b[0m\u001b[0m\n\u001b[1;32m---> 35\u001b[1;33m     \u001b[0mprint\u001b[0m\u001b[1;33m(\u001b[0m\u001b[0mc\u001b[0m\u001b[1;33m)\u001b[0m \u001b[1;31m# printing the value\u001b[0m\u001b[1;33m\u001b[0m\u001b[1;33m\u001b[0m\u001b[0m\n\u001b[0m\u001b[0;32m     36\u001b[0m     \u001b[0mprint\u001b[0m\u001b[1;33m(\u001b[0m\u001b[1;34m'Going to  sleep for 15 seconds\\n\\n\\n'\u001b[0m\u001b[1;33m)\u001b[0m\u001b[1;33m\u001b[0m\u001b[1;33m\u001b[0m\u001b[0m\n\u001b[0;32m     37\u001b[0m     \u001b[0mtime\u001b[0m\u001b[1;33m.\u001b[0m\u001b[0msleep\u001b[0m\u001b[1;33m(\u001b[0m\u001b[1;36m15\u001b[0m\u001b[1;33m)\u001b[0m\u001b[1;33m\u001b[0m\u001b[1;33m\u001b[0m\u001b[0m\n",
      "\u001b[1;31mNameError\u001b[0m: name 'c' is not defined"
     ]
    }
   ],
   "source": [
    "import requests\n",
    "import serial\n",
    "import time\n",
    "\n",
    "data = serial.Serial ('COM9',9600)\n",
    "\n",
    "url = 'http://odapapi.defrilab.com/api/Odap/recentRAngleMessage'\n",
    "count=1\n",
    "\n",
    "def data_read(bearingDegrees): \n",
    "    print('Bearing is {}\\n'.format(bearingDegrees))\n",
    "    #data.write(c)\n",
    "    data.write(bytes(bearingDegrees, 'utf-8'))\n",
    "    print(bearingDegrees)\n",
    "\n",
    "    time.sleep(0.1)\n",
    "\n",
    "    read = data.read()\n",
    "    print(\"The current orientation is: \")\n",
    "    read = int.from_bytes(read, \"big\")\n",
    "    return read\n",
    "\n",
    "while True:\n",
    "    print('Going for process, round {}\\n'.format(count))\n",
    "    response = requests.get(url)\n",
    "    server_data = response.json()\n",
    "    print('Printing the last 5 data points received\\n')\n",
    "    print(server_data[:5])\n",
    "    bearingDegrees = server_data[0]['angle']\n",
    "    bearingDegrees = str(bearingDegrees)\n",
    "    print('\\nThe Bearing of the Biggest Cluster Centroid is {}, sending it to Arduino\\n'.format(bearingDegrees)) \n",
    "    print('Data transmission was successful\\n')\n",
    "    time.sleep(2) \n",
    "    data_read(bearingDegrees)  \n",
    "    print('Going to  sleep for 15 seconds\\n\\n\\n')\n",
    "    time.sleep(15)\n",
    "    count += 1 "
   ]
  },
  {
   "cell_type": "code",
   "execution_count": null,
   "id": "52f5af2d",
   "metadata": {},
   "outputs": [],
   "source": []
  }
 ],
 "metadata": {
  "kernelspec": {
   "display_name": "Python 3 (ipykernel)",
   "language": "python",
   "name": "python3"
  },
  "language_info": {
   "codemirror_mode": {
    "name": "ipython",
    "version": 3
   },
   "file_extension": ".py",
   "mimetype": "text/x-python",
   "name": "python",
   "nbconvert_exporter": "python",
   "pygments_lexer": "ipython3",
   "version": "3.8.3"
  }
 },
 "nbformat": 4,
 "nbformat_minor": 5
}
