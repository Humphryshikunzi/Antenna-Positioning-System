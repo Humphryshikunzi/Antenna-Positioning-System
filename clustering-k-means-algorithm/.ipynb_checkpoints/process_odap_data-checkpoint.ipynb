{
 "cells": [
  {
   "cell_type": "code",
   "execution_count": 1,
   "id": "a76ad984",
   "metadata": {},
   "outputs": [
    {
     "name": "stderr",
     "output_type": "stream",
     "text": [
      "C:\\Users\\humph\\Anaconda3\\lib\\site-packages\\sklearn\\utils\\deprecation.py:143: FutureWarning: The sklearn.datasets.samples_generator module is  deprecated in version 0.22 and will be removed in version 0.24. The corresponding classes / functions should instead be imported from sklearn.datasets. Anything that cannot be imported from sklearn.datasets is now part of the private API.\n",
      "  warnings.warn(message, FutureWarning)\n"
     ]
    }
   ],
   "source": [
    "import requests\n",
    "import json\n",
    "import numpy as np\n",
    "import pandas as pd\n",
    "from matplotlib import pyplot as plt\n",
    "from sklearn.datasets.samples_generator import make_blobs\n",
    "from sklearn.cluster import KMeans\n",
    "import random\n",
    "from collections import Counter"
   ]
  },
  {
   "cell_type": "code",
   "execution_count": 2,
   "id": "70ac83aa",
   "metadata": {},
   "outputs": [],
   "source": [
    "url = 'http://odapapi.defrilab.com/api/Odap/recentMessages'"
   ]
  },
  {
   "cell_type": "code",
   "execution_count": 4,
   "id": "e49f6e9e",
   "metadata": {},
   "outputs": [
    {
     "name": "stdout",
     "output_type": "stream",
     "text": [
      "[{'uniqueDeviceId': 'Infinix X559_675f4168-fe18-4655-9aaa-b3f780161b13', 'lat': -0.3991622, 'long': 36.962716, 'alt': 1763.300048828125, 'accuracyGPS': 20, 'directionEastWest': 'E', 'directionNorthSouth': 'S', 'accuracy': None, 'accX': 0, 'accY': 0, 'accZ': 0, 'rssi': 0, 'id': 651}, {'uniqueDeviceId': 'Infinix X559_6136c8fd-b24b-4706-acc0-57d45dca294d', 'lat': -0.3991622, 'long': 36.962716, 'alt': 1763.300048828125, 'accuracyGPS': 20, 'directionEastWest': 'E', 'directionNorthSouth': 'S', 'accuracy': None, 'accX': 0, 'accY': 0, 'accZ': 0, 'rssi': 0, 'id': 650}, {'uniqueDeviceId': 'Infinix X559_6d50cec5-4809-44f4-a187-aabc8acc0497', 'lat': -0.3995166666666667, 'long': 36.96268333333333, 'alt': 1809.9, 'accuracyGPS': 8.699999809265137, 'directionEastWest': 'E', 'directionNorthSouth': 'S', 'accuracy': None, 'accX': 0, 'accY': 0, 'accZ': 0, 'rssi': 0, 'id': 649}, {'uniqueDeviceId': 'Infinix X559_a35f06c7-e6a9-45e2-934c-d16e2974a67f', 'lat': -0.3995166666666667, 'long': 36.96268333333333, 'alt': 1809.9, 'accuracyGPS': 8.699999809265137, 'directionEastWest': 'E', 'directionNorthSouth': 'S', 'accuracy': None, 'accX': 0, 'accY': 0, 'accZ': 0, 'rssi': 0, 'id': 648}, {'uniqueDeviceId': 'Infinix X559_e4d7bb6e-26d3-4c44-abda-6b526e03dae1', 'lat': -0.3995166666666667, 'long': 36.96268333333333, 'alt': 1809.9, 'accuracyGPS': 8.699999809265137, 'directionEastWest': 'E', 'directionNorthSouth': 'S', 'accuracy': None, 'accX': 0, 'accY': 0, 'accZ': 0, 'rssi': 0, 'id': 647}, {'uniqueDeviceId': 'Infinix X559_2ec719c9-dd09-47a6-bccb-2904729dbb17', 'lat': -0.3995166666666667, 'long': 36.96268333333333, 'alt': 1809.9, 'accuracyGPS': 8.699999809265137, 'directionEastWest': 'E', 'directionNorthSouth': 'S', 'accuracy': None, 'accX': 0, 'accY': 0, 'accZ': 0, 'rssi': 0, 'id': 646}, {'uniqueDeviceId': 'Infinix X559_a596a76c-e1fa-4970-973a-0541fd444048', 'lat': -0.3995166666666667, 'long': 36.96268333333333, 'alt': 1809.9, 'accuracyGPS': 8.699999809265137, 'directionEastWest': 'E', 'directionNorthSouth': 'S', 'accuracy': None, 'accX': 0, 'accY': 0, 'accZ': 0, 'rssi': 0, 'id': 645}, {'uniqueDeviceId': 'Infinix X559_b0924742-0f61-4d2f-a924-b694ec63a4b3', 'lat': -0.3995166666666667, 'long': 36.96268333333333, 'alt': 1809.9, 'accuracyGPS': 8.699999809265137, 'directionEastWest': 'E', 'directionNorthSouth': 'S', 'accuracy': None, 'accX': 0, 'accY': 0, 'accZ': 0, 'rssi': 0, 'id': 644}, {'uniqueDeviceId': 'Infinix X559_1756b2a1-0f48-4a98-9da2-bb47e45b4b12', 'lat': -0.3997233333333333, 'long': 36.962583333333335, 'alt': 1809.9, 'accuracyGPS': 8.100000381469727, 'directionEastWest': 'E', 'directionNorthSouth': 'S', 'accuracy': None, 'accX': 0, 'accY': 0, 'accZ': 0, 'rssi': 0, 'id': 643}, {'uniqueDeviceId': 'Infinix X559_651a867e-08cb-4f02-9e40-fb4d00d921ab', 'lat': -0.3997233333333333, 'long': 36.962583333333335, 'alt': 1809.9, 'accuracyGPS': 8.100000381469727, 'directionEastWest': 'E', 'directionNorthSouth': 'S', 'accuracy': None, 'accX': 0, 'accY': 0, 'accZ': 0, 'rssi': 0, 'id': 642}, {'uniqueDeviceId': 'Infinix X559_f6aeea13-d10b-42fe-b9ec-2f259a7bb987', 'lat': -0.39974666666666664, 'long': 36.962575, 'alt': 1810, 'accuracyGPS': 8.100000381469727, 'directionEastWest': 'E', 'directionNorthSouth': 'S', 'accuracy': None, 'accX': 0, 'accY': 0, 'accZ': 0, 'rssi': 0, 'id': 641}, {'uniqueDeviceId': 'Infinix X559_c26616c6-a0ae-4df9-b054-1f0f47f9485c', 'lat': -0.39974666666666664, 'long': 36.962575, 'alt': 1810, 'accuracyGPS': 8.100000381469727, 'directionEastWest': 'E', 'directionNorthSouth': 'S', 'accuracy': None, 'accX': 0, 'accY': 0, 'accZ': 0, 'rssi': 0, 'id': 640}, {'uniqueDeviceId': 'Infinix X559_a9e38e6c-fa45-483f-8d6e-68bc1e7ec3d2', 'lat': -0.3997616666666667, 'long': 36.962565000000005, 'alt': 1810, 'accuracyGPS': 8, 'directionEastWest': 'E', 'directionNorthSouth': 'S', 'accuracy': None, 'accX': 0, 'accY': 0, 'accZ': 0, 'rssi': 0, 'id': 639}, {'uniqueDeviceId': 'Infinix X559_07816b22-6c02-4e33-9e3e-a86a1a3a8634', 'lat': -0.3997616666666667, 'long': 36.962565000000005, 'alt': 1810, 'accuracyGPS': 8, 'directionEastWest': 'E', 'directionNorthSouth': 'S', 'accuracy': None, 'accX': 0, 'accY': 0, 'accZ': 0, 'rssi': 0, 'id': 638}, {'uniqueDeviceId': 'Infinix X559_b7b06080-8833-4664-ace6-6f921cce8d9b', 'lat': -0.39976833333333334, 'long': 36.96255833333333, 'alt': 1810, 'accuracyGPS': 8, 'directionEastWest': 'E', 'directionNorthSouth': 'S', 'accuracy': None, 'accX': 0, 'accY': 0, 'accZ': 0, 'rssi': 0, 'id': 637}, {'uniqueDeviceId': 'Infinix X559_aa4bb470-5497-4180-b782-861d44f372c1', 'lat': -0.39976833333333334, 'long': 36.96255833333333, 'alt': 1810, 'accuracyGPS': 8, 'directionEastWest': 'E', 'directionNorthSouth': 'S', 'accuracy': None, 'accX': 0, 'accY': 0, 'accZ': 0, 'rssi': 0, 'id': 636}, {'uniqueDeviceId': 'Infinix X559_6f938fbc-1cb7-4782-bf31-374010ad68a1', 'lat': -0.39977, 'long': 36.96256166666667, 'alt': 1810, 'accuracyGPS': 7.900000095367432, 'directionEastWest': 'E', 'directionNorthSouth': 'S', 'accuracy': None, 'accX': 0, 'accY': 0, 'accZ': 0, 'rssi': 0, 'id': 635}, {'uniqueDeviceId': 'Infinix X559_400956f4-a8d0-47d6-800c-a7defd3b1876', 'lat': -0.39977, 'long': 36.96256166666667, 'alt': 1810, 'accuracyGPS': 7.900000095367432, 'directionEastWest': 'E', 'directionNorthSouth': 'S', 'accuracy': None, 'accX': 0, 'accY': 0, 'accZ': 0, 'rssi': 0, 'id': 634}, {'uniqueDeviceId': 'Infinix X559_34867f28-51e1-4117-891e-1b09699d3639', 'lat': -0.3993983333333333, 'long': 36.962725, 'alt': 1809.8, 'accuracyGPS': 6.5, 'directionEastWest': 'E', 'directionNorthSouth': 'S', 'accuracy': None, 'accX': 0, 'accY': 0, 'accZ': 0, 'rssi': 0, 'id': 633}, {'uniqueDeviceId': 'Infinix X559_6f2c3059-3a69-4ada-a3ce-d0807d26785f', 'lat': -0.3993933333333333, 'long': 36.96272666666667, 'alt': 1809.8, 'accuracyGPS': 6.400000095367432, 'directionEastWest': 'E', 'directionNorthSouth': 'S', 'accuracy': None, 'accX': 0, 'accY': 0, 'accZ': 0, 'rssi': 0, 'id': 632}]\n"
     ]
    }
   ],
   "source": [
    "response = requests.get(url)\n",
    "data = response.json()\n",
    "print(data)"
   ]
  },
  {
   "cell_type": "code",
   "execution_count": 5,
   "id": "f6294ea1",
   "metadata": {},
   "outputs": [
    {
     "name": "stdout",
     "output_type": "stream",
     "text": [
      "{'uniqueDeviceId': 'Infinix X559_675f4168-fe18-4655-9aaa-b3f780161b13', 'lat': -0.3991622, 'long': 36.962716, 'alt': 1763.300048828125, 'accuracyGPS': 20, 'directionEastWest': 'E', 'directionNorthSouth': 'S', 'accuracy': None, 'accX': 0, 'accY': 0, 'accZ': 0, 'rssi': 0, 'id': 651}\n",
      "\n",
      "\n",
      "{'uniqueDeviceId': 'Infinix X559_6136c8fd-b24b-4706-acc0-57d45dca294d', 'lat': -0.3991622, 'long': 36.962716, 'alt': 1763.300048828125, 'accuracyGPS': 20, 'directionEastWest': 'E', 'directionNorthSouth': 'S', 'accuracy': None, 'accX': 0, 'accY': 0, 'accZ': 0, 'rssi': 0, 'id': 650}\n",
      "\n",
      "\n",
      "{'uniqueDeviceId': 'Infinix X559_6d50cec5-4809-44f4-a187-aabc8acc0497', 'lat': -0.3995166666666667, 'long': 36.96268333333333, 'alt': 1809.9, 'accuracyGPS': 8.699999809265137, 'directionEastWest': 'E', 'directionNorthSouth': 'S', 'accuracy': None, 'accX': 0, 'accY': 0, 'accZ': 0, 'rssi': 0, 'id': 649}\n",
      "\n",
      "\n",
      "{'uniqueDeviceId': 'Infinix X559_a35f06c7-e6a9-45e2-934c-d16e2974a67f', 'lat': -0.3995166666666667, 'long': 36.96268333333333, 'alt': 1809.9, 'accuracyGPS': 8.699999809265137, 'directionEastWest': 'E', 'directionNorthSouth': 'S', 'accuracy': None, 'accX': 0, 'accY': 0, 'accZ': 0, 'rssi': 0, 'id': 648}\n",
      "\n",
      "\n",
      "{'uniqueDeviceId': 'Infinix X559_e4d7bb6e-26d3-4c44-abda-6b526e03dae1', 'lat': -0.3995166666666667, 'long': 36.96268333333333, 'alt': 1809.9, 'accuracyGPS': 8.699999809265137, 'directionEastWest': 'E', 'directionNorthSouth': 'S', 'accuracy': None, 'accX': 0, 'accY': 0, 'accZ': 0, 'rssi': 0, 'id': 647}\n",
      "\n",
      "\n",
      "{'uniqueDeviceId': 'Infinix X559_2ec719c9-dd09-47a6-bccb-2904729dbb17', 'lat': -0.3995166666666667, 'long': 36.96268333333333, 'alt': 1809.9, 'accuracyGPS': 8.699999809265137, 'directionEastWest': 'E', 'directionNorthSouth': 'S', 'accuracy': None, 'accX': 0, 'accY': 0, 'accZ': 0, 'rssi': 0, 'id': 646}\n",
      "\n",
      "\n",
      "{'uniqueDeviceId': 'Infinix X559_a596a76c-e1fa-4970-973a-0541fd444048', 'lat': -0.3995166666666667, 'long': 36.96268333333333, 'alt': 1809.9, 'accuracyGPS': 8.699999809265137, 'directionEastWest': 'E', 'directionNorthSouth': 'S', 'accuracy': None, 'accX': 0, 'accY': 0, 'accZ': 0, 'rssi': 0, 'id': 645}\n",
      "\n",
      "\n",
      "{'uniqueDeviceId': 'Infinix X559_b0924742-0f61-4d2f-a924-b694ec63a4b3', 'lat': -0.3995166666666667, 'long': 36.96268333333333, 'alt': 1809.9, 'accuracyGPS': 8.699999809265137, 'directionEastWest': 'E', 'directionNorthSouth': 'S', 'accuracy': None, 'accX': 0, 'accY': 0, 'accZ': 0, 'rssi': 0, 'id': 644}\n",
      "\n",
      "\n",
      "{'uniqueDeviceId': 'Infinix X559_1756b2a1-0f48-4a98-9da2-bb47e45b4b12', 'lat': -0.3997233333333333, 'long': 36.962583333333335, 'alt': 1809.9, 'accuracyGPS': 8.100000381469727, 'directionEastWest': 'E', 'directionNorthSouth': 'S', 'accuracy': None, 'accX': 0, 'accY': 0, 'accZ': 0, 'rssi': 0, 'id': 643}\n",
      "\n",
      "\n",
      "{'uniqueDeviceId': 'Infinix X559_651a867e-08cb-4f02-9e40-fb4d00d921ab', 'lat': -0.3997233333333333, 'long': 36.962583333333335, 'alt': 1809.9, 'accuracyGPS': 8.100000381469727, 'directionEastWest': 'E', 'directionNorthSouth': 'S', 'accuracy': None, 'accX': 0, 'accY': 0, 'accZ': 0, 'rssi': 0, 'id': 642}\n",
      "\n",
      "\n",
      "{'uniqueDeviceId': 'Infinix X559_f6aeea13-d10b-42fe-b9ec-2f259a7bb987', 'lat': -0.39974666666666664, 'long': 36.962575, 'alt': 1810, 'accuracyGPS': 8.100000381469727, 'directionEastWest': 'E', 'directionNorthSouth': 'S', 'accuracy': None, 'accX': 0, 'accY': 0, 'accZ': 0, 'rssi': 0, 'id': 641}\n",
      "\n",
      "\n",
      "{'uniqueDeviceId': 'Infinix X559_c26616c6-a0ae-4df9-b054-1f0f47f9485c', 'lat': -0.39974666666666664, 'long': 36.962575, 'alt': 1810, 'accuracyGPS': 8.100000381469727, 'directionEastWest': 'E', 'directionNorthSouth': 'S', 'accuracy': None, 'accX': 0, 'accY': 0, 'accZ': 0, 'rssi': 0, 'id': 640}\n",
      "\n",
      "\n",
      "{'uniqueDeviceId': 'Infinix X559_a9e38e6c-fa45-483f-8d6e-68bc1e7ec3d2', 'lat': -0.3997616666666667, 'long': 36.962565000000005, 'alt': 1810, 'accuracyGPS': 8, 'directionEastWest': 'E', 'directionNorthSouth': 'S', 'accuracy': None, 'accX': 0, 'accY': 0, 'accZ': 0, 'rssi': 0, 'id': 639}\n",
      "\n",
      "\n",
      "{'uniqueDeviceId': 'Infinix X559_07816b22-6c02-4e33-9e3e-a86a1a3a8634', 'lat': -0.3997616666666667, 'long': 36.962565000000005, 'alt': 1810, 'accuracyGPS': 8, 'directionEastWest': 'E', 'directionNorthSouth': 'S', 'accuracy': None, 'accX': 0, 'accY': 0, 'accZ': 0, 'rssi': 0, 'id': 638}\n",
      "\n",
      "\n",
      "{'uniqueDeviceId': 'Infinix X559_b7b06080-8833-4664-ace6-6f921cce8d9b', 'lat': -0.39976833333333334, 'long': 36.96255833333333, 'alt': 1810, 'accuracyGPS': 8, 'directionEastWest': 'E', 'directionNorthSouth': 'S', 'accuracy': None, 'accX': 0, 'accY': 0, 'accZ': 0, 'rssi': 0, 'id': 637}\n",
      "\n",
      "\n",
      "{'uniqueDeviceId': 'Infinix X559_aa4bb470-5497-4180-b782-861d44f372c1', 'lat': -0.39976833333333334, 'long': 36.96255833333333, 'alt': 1810, 'accuracyGPS': 8, 'directionEastWest': 'E', 'directionNorthSouth': 'S', 'accuracy': None, 'accX': 0, 'accY': 0, 'accZ': 0, 'rssi': 0, 'id': 636}\n",
      "\n",
      "\n",
      "{'uniqueDeviceId': 'Infinix X559_6f938fbc-1cb7-4782-bf31-374010ad68a1', 'lat': -0.39977, 'long': 36.96256166666667, 'alt': 1810, 'accuracyGPS': 7.900000095367432, 'directionEastWest': 'E', 'directionNorthSouth': 'S', 'accuracy': None, 'accX': 0, 'accY': 0, 'accZ': 0, 'rssi': 0, 'id': 635}\n",
      "\n",
      "\n",
      "{'uniqueDeviceId': 'Infinix X559_400956f4-a8d0-47d6-800c-a7defd3b1876', 'lat': -0.39977, 'long': 36.96256166666667, 'alt': 1810, 'accuracyGPS': 7.900000095367432, 'directionEastWest': 'E', 'directionNorthSouth': 'S', 'accuracy': None, 'accX': 0, 'accY': 0, 'accZ': 0, 'rssi': 0, 'id': 634}\n",
      "\n",
      "\n",
      "{'uniqueDeviceId': 'Infinix X559_34867f28-51e1-4117-891e-1b09699d3639', 'lat': -0.3993983333333333, 'long': 36.962725, 'alt': 1809.8, 'accuracyGPS': 6.5, 'directionEastWest': 'E', 'directionNorthSouth': 'S', 'accuracy': None, 'accX': 0, 'accY': 0, 'accZ': 0, 'rssi': 0, 'id': 633}\n",
      "\n",
      "\n",
      "{'uniqueDeviceId': 'Infinix X559_6f2c3059-3a69-4ada-a3ce-d0807d26785f', 'lat': -0.3993933333333333, 'long': 36.96272666666667, 'alt': 1809.8, 'accuracyGPS': 6.400000095367432, 'directionEastWest': 'E', 'directionNorthSouth': 'S', 'accuracy': None, 'accX': 0, 'accY': 0, 'accZ': 0, 'rssi': 0, 'id': 632}\n",
      "\n",
      "\n"
     ]
    }
   ],
   "source": [
    "loc_compact  = []\n",
    "for loc in data:\n",
    "    print(loc) \n",
    "    loc_compact.append([loc['lat'],loc['long']])\n",
    "    print('\\n')"
   ]
  },
  {
   "cell_type": "code",
   "execution_count": 6,
   "id": "7c0887db",
   "metadata": {},
   "outputs": [
    {
     "data": {
      "text/plain": [
       "[[-0.3991622, 36.962716],\n",
       " [-0.3991622, 36.962716],\n",
       " [-0.3995166666666667, 36.96268333333333],\n",
       " [-0.3995166666666667, 36.96268333333333],\n",
       " [-0.3995166666666667, 36.96268333333333],\n",
       " [-0.3995166666666667, 36.96268333333333],\n",
       " [-0.3995166666666667, 36.96268333333333],\n",
       " [-0.3995166666666667, 36.96268333333333],\n",
       " [-0.3997233333333333, 36.962583333333335],\n",
       " [-0.3997233333333333, 36.962583333333335],\n",
       " [-0.39974666666666664, 36.962575],\n",
       " [-0.39974666666666664, 36.962575],\n",
       " [-0.3997616666666667, 36.962565000000005],\n",
       " [-0.3997616666666667, 36.962565000000005],\n",
       " [-0.39976833333333334, 36.96255833333333],\n",
       " [-0.39976833333333334, 36.96255833333333],\n",
       " [-0.39977, 36.96256166666667],\n",
       " [-0.39977, 36.96256166666667],\n",
       " [-0.3993983333333333, 36.962725],\n",
       " [-0.3993933333333333, 36.96272666666667]]"
      ]
     },
     "execution_count": 6,
     "metadata": {},
     "output_type": "execute_result"
    }
   ],
   "source": [
    "loc_compact"
   ]
  },
  {
   "cell_type": "code",
   "execution_count": 7,
   "id": "c9688b36",
   "metadata": {},
   "outputs": [],
   "source": [
    "loc_compact = np.array(loc_compact)"
   ]
  },
  {
   "cell_type": "code",
   "execution_count": 8,
   "id": "bff66603",
   "metadata": {},
   "outputs": [
    {
     "data": {
      "text/plain": [
       "<matplotlib.collections.PathCollection at 0x28ec2559dc0>"
      ]
     },
     "execution_count": 8,
     "metadata": {},
     "output_type": "execute_result"
    },
    {
     "data": {
      "image/png": "[encoded data removed]",
      "text/plain": [
       "<Figure size 432x288 with 1 Axes>"
      ]
     },
     "metadata": {
      "needs_background": "light"
     },
     "output_type": "display_data"
    }
   ],
   "source": [
    "#make our own data using the make_blob \n",
    "#X, y = make_blobs(n_samples=300, centers=4, cluster_std=0.60, random_state=0)\n",
    "plt.scatter(loc_compact[:,0], loc_compact[:,1])"
   ]
  },
  {
   "cell_type": "code",
   "execution_count": 9,
   "id": "b6e998d7",
   "metadata": {},
   "outputs": [
    {
     "name": "stderr",
     "output_type": "stream",
     "text": [
      "C:\\Users\\humph\\AppData\\Local\\Temp/ipykernel_18188/2230955258.py:5: ConvergenceWarning: Number of distinct clusters (9) found smaller than n_clusters (10). Possibly due to duplicate points in X.\n",
      "  kmeans.fit(loc_compact)\n"
     ]
    },
    {
     "data": {
      "image/png": "[encoded data removed]",
      "text/plain": [
       "<Figure size 432x288 with 1 Axes>"
      ]
     },
     "metadata": {
      "needs_background": "light"
     },
     "output_type": "display_data"
    }
   ],
   "source": [
    "#determine the optimul number of clusters using the elbow method\n",
    "wcss = []\n",
    "for i in range(1, 11):\n",
    "    kmeans = KMeans(n_clusters=i, init='k-means++', max_iter=len(loc_compact), n_init=10, random_state=0)\n",
    "    kmeans.fit(loc_compact)\n",
    "    wcss.append(kmeans.inertia_)\n",
    "plt.plot(range(1, 11), wcss)\n",
    "plt.title('Elbow Method')\n",
    "plt.xlabel('Number of clusters')\n",
    "plt.ylabel('WCSS')\n",
    "plt.show()"
   ]
  },
  {
   "cell_type": "code",
   "execution_count": 10,
   "id": "21fc5d86",
   "metadata": {},
   "outputs": [
    {
     "data": {
      "image/png": "[encoded data removed]",
      "text/plain": [
       "<Figure size 432x288 with 1 Axes>"
      ]
     },
     "metadata": {
      "needs_background": "light"
     },
     "output_type": "display_data"
    }
   ],
   "source": [
    "#determine the centroid for each cluster\n",
    "kmeans = KMeans(n_clusters=2, init='k-means++', max_iter=len(loc_compact), n_init=10, random_state=0)\n",
    "pred_y = kmeans.fit_predict(loc_compact)\n",
    "plt.scatter(loc_compact[:,0], loc_compact[:,1])\n",
    "plt.scatter(kmeans.cluster_centers_[:, 0], kmeans.cluster_centers_[:, 1], s=len(loc_compact), c='red')\n",
    "plt.show()"
   ]
  },
  {
   "cell_type": "code",
   "execution_count": 11,
   "id": "41f84985",
   "metadata": {},
   "outputs": [
    {
     "data": {
      "text/plain": [
       "array([[-0.399754  , 36.96256867],\n",
       "       [-0.39942161, 36.96269837]])"
      ]
     },
     "execution_count": 11,
     "metadata": {},
     "output_type": "execute_result"
    }
   ],
   "source": [
    "# get the centroids\n",
    "centroids = kmeans.cluster_centers_\n",
    "centroids"
   ]
  },
  {
   "cell_type": "code",
   "execution_count": 12,
   "id": "e3203726",
   "metadata": {},
   "outputs": [
    {
     "data": {
      "text/plain": [
       "[1, 1, 1, 1, 1, 1, 1, 1, 0, 0, 0, 0, 0, 0, 0, 0, 0, 0, 1, 1]"
      ]
     },
     "execution_count": 12,
     "metadata": {},
     "output_type": "execute_result"
    }
   ],
   "source": [
    "#pick the largest cluster using the length of labels\n",
    "labels =list(kmeans.labels_)\n",
    "labels"
   ]
  },
  {
   "cell_type": "code",
   "execution_count": 13,
   "id": "97edf72d",
   "metadata": {},
   "outputs": [
    {
     "data": {
      "text/plain": [
       "[0, 1]"
      ]
     },
     "execution_count": 13,
     "metadata": {},
     "output_type": "execute_result"
    }
   ],
   "source": [
    "#get unique elements, and use as classes\n",
    "classes = list(set(labels))\n",
    "classes"
   ]
  },
  {
   "cell_type": "code",
   "execution_count": 14,
   "id": "b03bdad9",
   "metadata": {},
   "outputs": [
    {
     "data": {
      "text/plain": [
       "Counter({1: 10, 0: 10})"
      ]
     },
     "execution_count": 14,
     "metadata": {},
     "output_type": "execute_result"
    }
   ],
   "source": [
    "#find the largest cluster\n",
    "unique = Counter(labels)\n",
    "unique"
   ]
  },
  {
   "cell_type": "code",
   "execution_count": 15,
   "id": "67ebfbde",
   "metadata": {},
   "outputs": [
    {
     "data": {
      "text/plain": [
       "1"
      ]
     },
     "execution_count": 15,
     "metadata": {},
     "output_type": "execute_result"
    }
   ],
   "source": [
    "bigger_cluster = max(unique, key=unique.get)\n",
    "bigger_cluster"
   ]
  },
  {
   "cell_type": "code",
   "execution_count": 16,
   "id": "cf626b6b",
   "metadata": {},
   "outputs": [
    {
     "data": {
      "text/plain": [
       "array([-0.39942161, 36.96269837])"
      ]
     },
     "execution_count": 16,
     "metadata": {},
     "output_type": "execute_result"
    }
   ],
   "source": [
    "centroids[bigger_cluster]"
   ]
  },
  {
   "cell_type": "code",
   "execution_count": null,
   "id": "b416a474",
   "metadata": {},
   "outputs": [],
   "source": [
    "#calculate the bearing\n",
    "#source https://towardsdatascience.com/calculating-the-bearing-between-two-geospatial-coordinates-66203f57e4b4"
   ]
  }
 ],
 "metadata": {
  "kernelspec": {
   "display_name": "Python 3 (ipykernel)",
   "language": "python",
   "name": "python3"
  },
  "language_info": {
   "codemirror_mode": {
    "name": "ipython",
    "version": 3
   },
   "file_extension": ".py",
   "mimetype": "text/x-python",
   "name": "python",
   "nbconvert_exporter": "python",
   "pygments_lexer": "ipython3",
   "version": "3.8.3"
  }
 },
 "nbformat": 4,
 "nbformat_minor": 5
}
