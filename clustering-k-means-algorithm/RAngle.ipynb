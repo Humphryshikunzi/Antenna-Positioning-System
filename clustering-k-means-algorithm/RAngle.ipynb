{
 "cells": [
  {
   "cell_type": "code",
   "execution_count": null,
   "id": "bd610a08",
   "metadata": {},
   "outputs": [],
   "source": [
    "import requests\n",
    "import json\n",
    "import random\n",
    "import numpy as np\n",
    "import pandas as pd\n",
    "import math\n",
    "import time\n",
    "import serial\n",
    "\n",
    "from matplotlib import pyplot as plt\n",
    "from sklearn.cluster import KMeans\n",
    "from collections import Counter\n",
    "from numpy import arctan2,random,sin,cos,degrees\n",
    "\n",
    "url = 'http://odapapi.defrilab.com/api/Odap/recentMessages'\n",
    "count=1\n",
    "\n",
    "while(True):\n",
    "    print('Going for process, round {}'.format(count))\n",
    "    response = requests.get(url)\n",
    "    data = response.json()\n",
    "    print('Printing the first 5 elements\\n')\n",
    "    print(data[:5])"
   ]
  }
 ],
 "metadata": {
  "kernelspec": {
   "display_name": "Python 3 (ipykernel)",
   "language": "python",
   "name": "python3"
  },
  "language_info": {
   "codemirror_mode": {
    "name": "ipython",
    "version": 3
   },
   "file_extension": ".py",
   "mimetype": "text/x-python",
   "name": "python",
   "nbconvert_exporter": "python",
   "pygments_lexer": "ipython3",
   "version": "3.8.3"
  }
 },
 "nbformat": 4,
 "nbformat_minor": 5
}
