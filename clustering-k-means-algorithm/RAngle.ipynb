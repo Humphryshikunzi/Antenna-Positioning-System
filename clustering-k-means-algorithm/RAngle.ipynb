{
 "cells": [
  {
   "cell_type": "code",
   "execution_count": null,
   "id": "d073aeb1",
   "metadata": {
    "scrolled": false
   },
   "outputs": [],
   "source": [
    "import requests\n",
    "import json\n",
    "import random\n",
    "import numpy as np\n",
    "import pandas as pd\n",
    "import math\n",
    "import time\n",
    "import serial\n",
    "\n",
    "from matplotlib import pyplot as plt\n",
    "from sklearn.cluster import KMeans\n",
    "from collections import Counter\n",
    "from numpy import arctan2,random,sin,cos,degrees\n",
    "\n",
    "py_ard_data = serial.Serial ('COM9',9600)\n",
    "\n",
    "def data_read(bearingDegrees): \n",
    "    print('Control has been taken over by Arduino, writing bytes to Arduino\\n')\n",
    "    py_ard_data.write(bytes(bearingDegrees, 'utf-8')) \n",
    "    print('Sleeping for 0.1s')\n",
    "    time.sleep(0.1)\n",
    "    print('Waiting for Arduino Response\\n')\n",
    "    read = py_ard_data.read() \n",
    "    read = int.from_bytes(read, \"big\")\n",
    "    print('Arduino just responded, taking the control back to Py\\n')\n",
    "    return read\n",
    "\n",
    "url = 'http://odapapi.defrilab.com/api/Odap/recentRAngleMessage'\n",
    "count=1\n",
    "\n",
    "while(True):\n",
    "    print('Going for process, round {}\\n'.format(count))\n",
    "    response = requests.get(url)\n",
    "    data = response.json()\n",
    "    print('Printing the last 5 data points received\\n')\n",
    "    print(data[:5])\n",
    "    bearingDegrees = data[0]['angle']\n",
    "    bearingDegrees = str(bearingDegrees)\n",
    "    print('\\nThe Bearing of the Biggest Cluster Centroid is {}, sending it to Arduino\\n'.format(bearingDegrees))\n",
    "    time.sleep(2)\n",
    "    data_read(bearingDegrees)\n",
    "    print('Data transmission was successful\\n')\n",
    "    print('Invalidating Current Data Points')\n",
    "    #\n",
    "    print('Going to  sleep for 15 seconds\\n\\n\\n')\n",
    "    time.sleep(5)\n",
    "    count += 1"
   ]
  },
  {
   "cell_type": "code",
   "execution_count": 1,
   "id": "f41d8f0a",
   "metadata": {},
   "outputs": [
    {
     "name": "stdout",
     "output_type": "stream",
     "text": [
      "Printing the last 5 data points received\n",
      "\n",
      "[{'angle': 165, 'dateReceived': '2022-03-09T11:57:15.6469302', 'isApproved': True, 'locationFrom': 'TA29', 'locationTo': 'TA23', 'emailToSendTo': 'humphry.shikunzi@outlook.com', 'id': 72}, {'angle': 300, 'dateReceived': '2022-03-09T11:40:45.4025113', 'isApproved': False, 'locationFrom': 'TA0', 'locationTo': 'TA6', 'emailToSendTo': 'humphry.shikunzi@outlook.com', 'id': 71}, {'angle': 300, 'dateReceived': '2022-03-09T11:32:08.4770643', 'isApproved': False, 'locationFrom': 'TA0', 'locationTo': 'TA6', 'emailToSendTo': 'humphry.shikunzi@outlook.com', 'id': 70}, {'angle': 300, 'dateReceived': '2022-03-09T11:29:19.4231978', 'isApproved': False, 'locationFrom': 'TA0', 'locationTo': 'TA6', 'emailToSendTo': 'humphry.shikunzi@outlook.com', 'id': 69}, {'angle': 200, 'dateReceived': '2022-03-09T11:18:34.187655', 'isApproved': False, 'locationFrom': 'TA0', 'locationTo': 'TA6', 'emailToSendTo': 'humphry.shikunzi@outlook.com', 'id': 68}]\n"
     ]
    }
   ],
   "source": [
    "import requests\n",
    "url = 'http://odapapi.defrilab.com/api/Odap/recentRAngleMessage'\n",
    "response = requests.get(url)\n",
    "data = response.json()\n",
    "print('Printing the last 5 data points received\\n')\n",
    "print(data[:5])"
   ]
  },
  {
   "cell_type": "code",
   "execution_count": 2,
   "id": "94822138",
   "metadata": {},
   "outputs": [
    {
     "name": "stdout",
     "output_type": "stream",
     "text": [
      "165\n",
      "True\n",
      "72\n"
     ]
    }
   ],
   "source": [
    "bearingDegrees = data[0]['angle']\n",
    "isApproved = data[0]['isApproved']\n",
    "id = data[0]['id']\n",
    "print(bearingDegrees)\n",
    "print(isApproved)\n",
    "print(id)"
   ]
  },
  {
   "cell_type": "code",
   "execution_count": null,
   "id": "f5de2035",
   "metadata": {},
   "outputs": [],
   "source": []
  }
 ],
 "metadata": {
  "kernelspec": {
   "display_name": "Python 3 (ipykernel)",
   "language": "python",
   "name": "python3"
  },
  "language_info": {
   "codemirror_mode": {
    "name": "ipython",
    "version": 3
   },
   "file_extension": ".py",
   "mimetype": "text/x-python",
   "name": "python",
   "nbconvert_exporter": "python",
   "pygments_lexer": "ipython3",
   "version": "3.9.7"
  }
 },
 "nbformat": 4,
 "nbformat_minor": 5
}
