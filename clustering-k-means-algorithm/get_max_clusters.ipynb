{
 "cells": [
  {
   "cell_type": "code",
   "execution_count": 1,
   "id": "778f4b1e",
   "metadata": {},
   "outputs": [],
   "source": [
    "# source https://medium.com/analytics-vidhya/how-to-determine-the-optimal-k-for-k-means-708505d204eb"
   ]
  },
  {
   "cell_type": "code",
   "execution_count": 1,
   "id": "9bad1fd1",
   "metadata": {},
   "outputs": [],
   "source": [
    "from sklearn.datasets import make_blobs\n",
    "\n",
    "# Create dataset with 3 random cluster centers and 1000 datapoints\n",
    "x, y = make_blobs(n_samples = 1000, centers = 3, n_features=2, shuffle=True, random_state=31)"
   ]
  },
  {
   "cell_type": "code",
   "execution_count": 2,
   "id": "458ccce7",
   "metadata": {},
   "outputs": [],
   "source": [
    "import matplotlib.pyplot as plt\n",
    "from sklearn.metrics import silhouette_score\n",
    "from sklearn.cluster import KMeans"
   ]
  },
  {
   "cell_type": "code",
   "execution_count": 3,
   "id": "9c8c0c24",
   "metadata": {},
   "outputs": [],
   "source": [
    "sil = []\n",
    "kmax = 10"
   ]
  },
  {
   "cell_type": "code",
   "execution_count": 4,
   "id": "81173d61",
   "metadata": {},
   "outputs": [],
   "source": [
    "# dissimilarity would not be defined for a single cluster, thus, minimum number of clusters should be 2\n",
    "for k in range(2, kmax+1):\n",
    "  kmeans = KMeans(n_clusters = k).fit(x)\n",
    "  labels = kmeans.labels_\n",
    "  sil.append(silhouette_score(x, labels, metric = 'euclidean'))"
   ]
  },
  {
   "cell_type": "code",
   "execution_count": 5,
   "id": "4e9c567b",
   "metadata": {},
   "outputs": [
    {
     "name": "stdout",
     "output_type": "stream",
     "text": [
      "[0.7554555291482525, 0.8430349122094365, 0.6767760126010569, 0.5176205835515505, 0.3239671663005897, 0.3345942023454323, 0.34440265283054305, 0.3387146643307669, 0.34025932710466306]\n"
     ]
    }
   ],
   "source": [
    "print(sil)"
   ]
  },
  {
   "cell_type": "code",
   "execution_count": 6,
   "id": "bf2b4e27",
   "metadata": {},
   "outputs": [
    {
     "name": "stdout",
     "output_type": "stream",
     "text": [
      "sil1-sil2: -0.08757938306118396\n",
      "sil2-sil3: 0.16625889960837958\n",
      "sil3-sil4: 0.15915542904950641\n",
      "sil4-sil5: 0.1936534172509608\n",
      "sil5-sil6: -0.010627036044842608\n",
      "sil6-sil7: -0.009808450485110753\n"
     ]
    }
   ],
   "source": [
    "print('sil1-sil2:',sil[0]-sil[1])\n",
    "print('sil2-sil3:',sil[1]-sil[2])\n",
    "print('sil3-sil4:',sil[2]-sil[3])\n",
    "print('sil4-sil5:',sil[3]-sil[4])\n",
    "print('sil5-sil6:',sil[4]-sil[5])\n",
    "print('sil6-sil7:',sil[5]-sil[6])"
   ]
  },
  {
   "cell_type": "code",
   "execution_count": null,
   "id": "d7912efd",
   "metadata": {},
   "outputs": [],
   "source": [
    "#No need for previous step as range started from 2 to max(k)+1\n",
    "#so we take the index of the highest value and add 1 to get the max number of clusters"
   ]
  }
 ],
 "metadata": {
  "kernelspec": {
   "display_name": "Python 3 (ipykernel)",
   "language": "python",
   "name": "python3"
  },
  "language_info": {
   "codemirror_mode": {
    "name": "ipython",
    "version": 3
   },
   "file_extension": ".py",
   "mimetype": "text/x-python",
   "name": "python",
   "nbconvert_exporter": "python",
   "pygments_lexer": "ipython3",
   "version": "3.9.7"
  }
 },
 "nbformat": 4,
 "nbformat_minor": 5
}
