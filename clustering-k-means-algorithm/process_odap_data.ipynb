{
 "cells": [
  {
   "cell_type": "code",
   "execution_count": 1,
   "id": "a76ad984",
   "metadata": {},
   "outputs": [
    {
     "name": "stderr",
     "output_type": "stream",
     "text": [
      "C:\\Users\\humph\\Anaconda3\\lib\\site-packages\\sklearn\\utils\\deprecation.py:143: FutureWarning: The sklearn.datasets.samples_generator module is  deprecated in version 0.22 and will be removed in version 0.24. The corresponding classes / functions should instead be imported from sklearn.datasets. Anything that cannot be imported from sklearn.datasets is now part of the private API.\n",
      "  warnings.warn(message, FutureWarning)\n"
     ]
    }
   ],
   "source": [
    "import requests\n",
    "import json\n",
    "import numpy as np\n",
    "import pandas as pd\n",
    "from matplotlib import pyplot as plt\n",
    "from sklearn.datasets.samples_generator import make_blobs\n",
    "from sklearn.cluster import KMeans\n",
    "import random\n",
    "from collections import Counter"
   ]
  },
  {
   "cell_type": "code",
   "execution_count": 2,
   "id": "70ac83aa",
   "metadata": {},
   "outputs": [],
   "source": [
    "url = 'http://odapapi.defrilab.com/api/Odap/recentMessages'"
   ]
  },
  {
   "cell_type": "code",
   "execution_count": 3,
   "id": "e49f6e9e",
   "metadata": {},
   "outputs": [
    {
     "name": "stdout",
     "output_type": "stream",
     "text": [
      "[{'uniqueDeviceId': 'Infinix X559_abc11552-78ef-4ce9-ae51-e06d27b8c3c0', 'lat': -0.39914, 'long': 36.96272166666667, 'alt': 1822.7, 'accuracyGPS': 5.199999809265137, 'directionEastWest': 'E', 'directionNorthSouth': 'S', 'accuracy': None, 'accX': 0, 'accY': 0, 'accZ': 0, 'rssi': 0, 'date': '2022-02-01T21:00:00', 'time': '14:30:32', 'id': 765}, {'uniqueDeviceId': 'Infinix X559_eea500c0-f1fd-4071-a379-46a9ff42b06b', 'lat': -0.39914, 'long': 36.96272166666667, 'alt': 1822.7, 'accuracyGPS': 5.199999809265137, 'directionEastWest': 'E', 'directionNorthSouth': 'S', 'accuracy': None, 'accX': 0, 'accY': 0, 'accZ': 0, 'rssi': 0, 'date': '2022-02-01T21:00:00', 'time': '14:30:32', 'id': 764}, {'uniqueDeviceId': 'Infinix X559_8c2c8f93-7404-4367-b3c1-26be31acd761', 'lat': -0.399085, 'long': 36.96265666666667, 'alt': 1825.8, 'accuracyGPS': 5.099999904632568, 'directionEastWest': 'E', 'directionNorthSouth': 'S', 'accuracy': None, 'accX': 0, 'accY': 0, 'accZ': 0, 'rssi': 0, 'date': '2022-02-01T21:00:00', 'time': '14:30:26', 'id': 763}, {'uniqueDeviceId': 'Infinix X559_a11ccf45-6de2-4715-ac9e-e84a76e30d1e', 'lat': -0.399085, 'long': 36.96265666666667, 'alt': 1825.8, 'accuracyGPS': 5.099999904632568, 'directionEastWest': 'E', 'directionNorthSouth': 'S', 'accuracy': None, 'accX': 0, 'accY': 0, 'accZ': 0, 'rssi': 0, 'date': '2022-02-01T21:00:00', 'time': '14:30:26', 'id': 762}, {'uniqueDeviceId': 'Infinix X559_3e86d012-bda4-4f0d-981c-4fabec76682a', 'lat': -0.3991, 'long': 36.96264833333333, 'alt': 1825.6, 'accuracyGPS': 5, 'directionEastWest': 'E', 'directionNorthSouth': 'S', 'accuracy': None, 'accX': 0, 'accY': 0, 'accZ': 0, 'rssi': 0, 'date': '2022-02-01T21:00:00', 'time': '14:30:20', 'id': 761}, {'uniqueDeviceId': 'Infinix X559_0235c6cd-cfd4-49fe-a190-33110be2a8df', 'lat': -0.3991, 'long': 36.96264833333333, 'alt': 1825.6, 'accuracyGPS': 5, 'directionEastWest': 'E', 'directionNorthSouth': 'S', 'accuracy': None, 'accX': 0, 'accY': 0, 'accZ': 0, 'rssi': 0, 'date': '2022-02-01T21:00:00', 'time': '14:30:20', 'id': 760}, {'uniqueDeviceId': 'Infinix X559_ddf54170-19aa-4da9-a805-ae3103033acc', 'lat': -0.399125, 'long': 36.96266166666667, 'alt': 1826.6, 'accuracyGPS': 4.900000095367432, 'directionEastWest': 'E', 'directionNorthSouth': 'S', 'accuracy': None, 'accX': 0, 'accY': 0, 'accZ': 0, 'rssi': 0, 'date': '2022-02-01T21:00:00', 'time': '14:30:14', 'id': 759}, {'uniqueDeviceId': 'Infinix X559_adacdc9c-e6e1-4af0-98c7-d1462a58ead8', 'lat': -0.399125, 'long': 36.96266166666667, 'alt': 1826.6, 'accuracyGPS': 4.900000095367432, 'directionEastWest': 'E', 'directionNorthSouth': 'S', 'accuracy': None, 'accX': 0, 'accY': 0, 'accZ': 0, 'rssi': 0, 'date': '2022-02-01T21:00:00', 'time': '14:30:14', 'id': 758}, {'uniqueDeviceId': 'Infinix X559_976f0552-50cf-426a-aeb9-4b29ea844a13', 'lat': -0.39908666666666665, 'long': 36.96263833333333, 'alt': 1837.5, 'accuracyGPS': 4.699999809265137, 'directionEastWest': 'E', 'directionNorthSouth': 'S', 'accuracy': None, 'accX': 0, 'accY': 0, 'accZ': 0, 'rssi': 0, 'date': '2022-02-01T21:00:00', 'time': '14:30:09', 'id': 757}, {'uniqueDeviceId': 'Infinix X559_cc811f49-948f-46e8-9b45-c09356e8f20d', 'lat': -0.39908666666666665, 'long': 36.96263833333333, 'alt': 1837.5, 'accuracyGPS': 4.699999809265137, 'directionEastWest': 'E', 'directionNorthSouth': 'S', 'accuracy': None, 'accX': 0, 'accY': 0, 'accZ': 0, 'rssi': 0, 'date': '2022-02-01T21:00:00', 'time': '14:30:09', 'id': 756}, {'uniqueDeviceId': 'Infinix X559_9d02d38e-eb09-4182-b6ae-8bc15da1c2f0', 'lat': -0.3990883333333333, 'long': 36.962689999999995, 'alt': 1802, 'accuracyGPS': 4.800000190734863, 'directionEastWest': 'E', 'directionNorthSouth': 'S', 'accuracy': None, 'accX': 0, 'accY': 0, 'accZ': 0, 'rssi': 0, 'date': '2022-02-01T21:00:00', 'time': '14:30:02', 'id': 755}, {'uniqueDeviceId': 'Infinix X559_2d3221ac-789e-44b8-bf6d-e74530d4e944', 'lat': -0.3990883333333333, 'long': 36.962689999999995, 'alt': 1802, 'accuracyGPS': 4.800000190734863, 'directionEastWest': 'E', 'directionNorthSouth': 'S', 'accuracy': None, 'accX': 0, 'accY': 0, 'accZ': 0, 'rssi': 0, 'date': '2022-02-01T21:00:00', 'time': '14:30:02', 'id': 754}, {'uniqueDeviceId': 'Infinix X559_efb24968-6ac5-4878-9c51-03fbfd0920e4', 'lat': -0.3991465, 'long': 36.9627119, 'alt': 1763.2000732421875, 'accuracyGPS': 20, 'directionEastWest': 'E', 'directionNorthSouth': 'S', 'accuracy': None, 'accX': 0, 'accY': 0, 'accZ': 0, 'rssi': 0, 'date': '2022-02-01T21:00:00', 'time': '14:29:46', 'id': 753}, {'uniqueDeviceId': 'Infinix X559_f3adf75f-ff15-41d5-aeac-4e9dab39c43c', 'lat': -0.3991465, 'long': 36.9627119, 'alt': 1763.2000732421875, 'accuracyGPS': 20, 'directionEastWest': 'E', 'directionNorthSouth': 'S', 'accuracy': None, 'accX': 0, 'accY': 0, 'accZ': 0, 'rssi': 0, 'date': '2022-02-01T21:00:00', 'time': '14:29:46', 'id': 752}, {'uniqueDeviceId': 'Infinix X559_e724ef90-b3c3-4ca8-8a42-cbebca3069e9', 'lat': -0.3991406, 'long': 36.9627001, 'alt': 1763.2000732421875, 'accuracyGPS': 20, 'directionEastWest': 'E', 'directionNorthSouth': 'S', 'accuracy': None, 'accX': 0, 'accY': 0, 'accZ': 0, 'rssi': 0, 'date': '2022-02-01T21:00:00', 'time': '14:29:26', 'id': 751}, {'uniqueDeviceId': 'Infinix X559_de4d2108-d96d-4f68-9732-b221921d0792', 'lat': -0.3991406, 'long': 36.9627001, 'alt': 1763.2000732421875, 'accuracyGPS': 20, 'directionEastWest': 'E', 'directionNorthSouth': 'S', 'accuracy': None, 'accX': 0, 'accY': 0, 'accZ': 0, 'rssi': 0, 'date': '2022-02-01T21:00:00', 'time': '14:29:26', 'id': 750}, {'uniqueDeviceId': 'Infinix X559_39a5cb16-3ad4-4801-9bf8-52550bce7b81', 'lat': -0.3991466, 'long': 36.9627157, 'alt': 1763.2000732421875, 'accuracyGPS': 20, 'directionEastWest': 'E', 'directionNorthSouth': 'S', 'accuracy': None, 'accX': 0, 'accY': 0, 'accZ': 0, 'rssi': 0, 'date': '2022-02-01T21:00:00', 'time': '14:29:07', 'id': 749}, {'uniqueDeviceId': 'Infinix X559_5c248bd9-17b3-4c6a-a198-7d7fd302f486', 'lat': -0.3991466, 'long': 36.9627157, 'alt': 1763.2000732421875, 'accuracyGPS': 20, 'directionEastWest': 'E', 'directionNorthSouth': 'S', 'accuracy': None, 'accX': 0, 'accY': 0, 'accZ': 0, 'rssi': 0, 'date': '2022-02-01T21:00:00', 'time': '14:29:07', 'id': 748}, {'uniqueDeviceId': 'Infinix X559_a27e077e-480a-445a-8bd8-6d72f97ab221', 'lat': -0.3991471, 'long': 36.9627145, 'alt': 1763.2000732421875, 'accuracyGPS': 20, 'directionEastWest': 'E', 'directionNorthSouth': 'S', 'accuracy': None, 'accX': 0, 'accY': 0, 'accZ': 0, 'rssi': 0, 'date': '2022-02-01T21:00:00', 'time': '14:28:46', 'id': 747}, {'uniqueDeviceId': 'Infinix X559_3eb86d58-c7f7-4166-ae0e-375c023ab688', 'lat': -0.3991471, 'long': 36.9627145, 'alt': 1763.2000732421875, 'accuracyGPS': 20, 'directionEastWest': 'E', 'directionNorthSouth': 'S', 'accuracy': None, 'accX': 0, 'accY': 0, 'accZ': 0, 'rssi': 0, 'date': '2022-02-01T21:00:00', 'time': '14:28:46', 'id': 746}]\n"
     ]
    }
   ],
   "source": [
    "response = requests.get(url)\n",
    "data = response.json()\n",
    "print(data)"
   ]
  },
  {
   "cell_type": "code",
   "execution_count": 4,
   "id": "f6294ea1",
   "metadata": {},
   "outputs": [
    {
     "name": "stdout",
     "output_type": "stream",
     "text": [
      "{'uniqueDeviceId': 'Infinix X559_abc11552-78ef-4ce9-ae51-e06d27b8c3c0', 'lat': -0.39914, 'long': 36.96272166666667, 'alt': 1822.7, 'accuracyGPS': 5.199999809265137, 'directionEastWest': 'E', 'directionNorthSouth': 'S', 'accuracy': None, 'accX': 0, 'accY': 0, 'accZ': 0, 'rssi': 0, 'date': '2022-02-01T21:00:00', 'time': '14:30:32', 'id': 765}\n",
      "\n",
      "\n",
      "{'uniqueDeviceId': 'Infinix X559_eea500c0-f1fd-4071-a379-46a9ff42b06b', 'lat': -0.39914, 'long': 36.96272166666667, 'alt': 1822.7, 'accuracyGPS': 5.199999809265137, 'directionEastWest': 'E', 'directionNorthSouth': 'S', 'accuracy': None, 'accX': 0, 'accY': 0, 'accZ': 0, 'rssi': 0, 'date': '2022-02-01T21:00:00', 'time': '14:30:32', 'id': 764}\n",
      "\n",
      "\n",
      "{'uniqueDeviceId': 'Infinix X559_8c2c8f93-7404-4367-b3c1-26be31acd761', 'lat': -0.399085, 'long': 36.96265666666667, 'alt': 1825.8, 'accuracyGPS': 5.099999904632568, 'directionEastWest': 'E', 'directionNorthSouth': 'S', 'accuracy': None, 'accX': 0, 'accY': 0, 'accZ': 0, 'rssi': 0, 'date': '2022-02-01T21:00:00', 'time': '14:30:26', 'id': 763}\n",
      "\n",
      "\n",
      "{'uniqueDeviceId': 'Infinix X559_a11ccf45-6de2-4715-ac9e-e84a76e30d1e', 'lat': -0.399085, 'long': 36.96265666666667, 'alt': 1825.8, 'accuracyGPS': 5.099999904632568, 'directionEastWest': 'E', 'directionNorthSouth': 'S', 'accuracy': None, 'accX': 0, 'accY': 0, 'accZ': 0, 'rssi': 0, 'date': '2022-02-01T21:00:00', 'time': '14:30:26', 'id': 762}\n",
      "\n",
      "\n",
      "{'uniqueDeviceId': 'Infinix X559_3e86d012-bda4-4f0d-981c-4fabec76682a', 'lat': -0.3991, 'long': 36.96264833333333, 'alt': 1825.6, 'accuracyGPS': 5, 'directionEastWest': 'E', 'directionNorthSouth': 'S', 'accuracy': None, 'accX': 0, 'accY': 0, 'accZ': 0, 'rssi': 0, 'date': '2022-02-01T21:00:00', 'time': '14:30:20', 'id': 761}\n",
      "\n",
      "\n",
      "{'uniqueDeviceId': 'Infinix X559_0235c6cd-cfd4-49fe-a190-33110be2a8df', 'lat': -0.3991, 'long': 36.96264833333333, 'alt': 1825.6, 'accuracyGPS': 5, 'directionEastWest': 'E', 'directionNorthSouth': 'S', 'accuracy': None, 'accX': 0, 'accY': 0, 'accZ': 0, 'rssi': 0, 'date': '2022-02-01T21:00:00', 'time': '14:30:20', 'id': 760}\n",
      "\n",
      "\n",
      "{'uniqueDeviceId': 'Infinix X559_ddf54170-19aa-4da9-a805-ae3103033acc', 'lat': -0.399125, 'long': 36.96266166666667, 'alt': 1826.6, 'accuracyGPS': 4.900000095367432, 'directionEastWest': 'E', 'directionNorthSouth': 'S', 'accuracy': None, 'accX': 0, 'accY': 0, 'accZ': 0, 'rssi': 0, 'date': '2022-02-01T21:00:00', 'time': '14:30:14', 'id': 759}\n",
      "\n",
      "\n",
      "{'uniqueDeviceId': 'Infinix X559_adacdc9c-e6e1-4af0-98c7-d1462a58ead8', 'lat': -0.399125, 'long': 36.96266166666667, 'alt': 1826.6, 'accuracyGPS': 4.900000095367432, 'directionEastWest': 'E', 'directionNorthSouth': 'S', 'accuracy': None, 'accX': 0, 'accY': 0, 'accZ': 0, 'rssi': 0, 'date': '2022-02-01T21:00:00', 'time': '14:30:14', 'id': 758}\n",
      "\n",
      "\n",
      "{'uniqueDeviceId': 'Infinix X559_976f0552-50cf-426a-aeb9-4b29ea844a13', 'lat': -0.39908666666666665, 'long': 36.96263833333333, 'alt': 1837.5, 'accuracyGPS': 4.699999809265137, 'directionEastWest': 'E', 'directionNorthSouth': 'S', 'accuracy': None, 'accX': 0, 'accY': 0, 'accZ': 0, 'rssi': 0, 'date': '2022-02-01T21:00:00', 'time': '14:30:09', 'id': 757}\n",
      "\n",
      "\n",
      "{'uniqueDeviceId': 'Infinix X559_cc811f49-948f-46e8-9b45-c09356e8f20d', 'lat': -0.39908666666666665, 'long': 36.96263833333333, 'alt': 1837.5, 'accuracyGPS': 4.699999809265137, 'directionEastWest': 'E', 'directionNorthSouth': 'S', 'accuracy': None, 'accX': 0, 'accY': 0, 'accZ': 0, 'rssi': 0, 'date': '2022-02-01T21:00:00', 'time': '14:30:09', 'id': 756}\n",
      "\n",
      "\n",
      "{'uniqueDeviceId': 'Infinix X559_9d02d38e-eb09-4182-b6ae-8bc15da1c2f0', 'lat': -0.3990883333333333, 'long': 36.962689999999995, 'alt': 1802, 'accuracyGPS': 4.800000190734863, 'directionEastWest': 'E', 'directionNorthSouth': 'S', 'accuracy': None, 'accX': 0, 'accY': 0, 'accZ': 0, 'rssi': 0, 'date': '2022-02-01T21:00:00', 'time': '14:30:02', 'id': 755}\n",
      "\n",
      "\n",
      "{'uniqueDeviceId': 'Infinix X559_2d3221ac-789e-44b8-bf6d-e74530d4e944', 'lat': -0.3990883333333333, 'long': 36.962689999999995, 'alt': 1802, 'accuracyGPS': 4.800000190734863, 'directionEastWest': 'E', 'directionNorthSouth': 'S', 'accuracy': None, 'accX': 0, 'accY': 0, 'accZ': 0, 'rssi': 0, 'date': '2022-02-01T21:00:00', 'time': '14:30:02', 'id': 754}\n",
      "\n",
      "\n",
      "{'uniqueDeviceId': 'Infinix X559_efb24968-6ac5-4878-9c51-03fbfd0920e4', 'lat': -0.3991465, 'long': 36.9627119, 'alt': 1763.2000732421875, 'accuracyGPS': 20, 'directionEastWest': 'E', 'directionNorthSouth': 'S', 'accuracy': None, 'accX': 0, 'accY': 0, 'accZ': 0, 'rssi': 0, 'date': '2022-02-01T21:00:00', 'time': '14:29:46', 'id': 753}\n",
      "\n",
      "\n",
      "{'uniqueDeviceId': 'Infinix X559_f3adf75f-ff15-41d5-aeac-4e9dab39c43c', 'lat': -0.3991465, 'long': 36.9627119, 'alt': 1763.2000732421875, 'accuracyGPS': 20, 'directionEastWest': 'E', 'directionNorthSouth': 'S', 'accuracy': None, 'accX': 0, 'accY': 0, 'accZ': 0, 'rssi': 0, 'date': '2022-02-01T21:00:00', 'time': '14:29:46', 'id': 752}\n",
      "\n",
      "\n",
      "{'uniqueDeviceId': 'Infinix X559_e724ef90-b3c3-4ca8-8a42-cbebca3069e9', 'lat': -0.3991406, 'long': 36.9627001, 'alt': 1763.2000732421875, 'accuracyGPS': 20, 'directionEastWest': 'E', 'directionNorthSouth': 'S', 'accuracy': None, 'accX': 0, 'accY': 0, 'accZ': 0, 'rssi': 0, 'date': '2022-02-01T21:00:00', 'time': '14:29:26', 'id': 751}\n",
      "\n",
      "\n",
      "{'uniqueDeviceId': 'Infinix X559_de4d2108-d96d-4f68-9732-b221921d0792', 'lat': -0.3991406, 'long': 36.9627001, 'alt': 1763.2000732421875, 'accuracyGPS': 20, 'directionEastWest': 'E', 'directionNorthSouth': 'S', 'accuracy': None, 'accX': 0, 'accY': 0, 'accZ': 0, 'rssi': 0, 'date': '2022-02-01T21:00:00', 'time': '14:29:26', 'id': 750}\n",
      "\n",
      "\n",
      "{'uniqueDeviceId': 'Infinix X559_39a5cb16-3ad4-4801-9bf8-52550bce7b81', 'lat': -0.3991466, 'long': 36.9627157, 'alt': 1763.2000732421875, 'accuracyGPS': 20, 'directionEastWest': 'E', 'directionNorthSouth': 'S', 'accuracy': None, 'accX': 0, 'accY': 0, 'accZ': 0, 'rssi': 0, 'date': '2022-02-01T21:00:00', 'time': '14:29:07', 'id': 749}\n",
      "\n",
      "\n",
      "{'uniqueDeviceId': 'Infinix X559_5c248bd9-17b3-4c6a-a198-7d7fd302f486', 'lat': -0.3991466, 'long': 36.9627157, 'alt': 1763.2000732421875, 'accuracyGPS': 20, 'directionEastWest': 'E', 'directionNorthSouth': 'S', 'accuracy': None, 'accX': 0, 'accY': 0, 'accZ': 0, 'rssi': 0, 'date': '2022-02-01T21:00:00', 'time': '14:29:07', 'id': 748}\n",
      "\n",
      "\n",
      "{'uniqueDeviceId': 'Infinix X559_a27e077e-480a-445a-8bd8-6d72f97ab221', 'lat': -0.3991471, 'long': 36.9627145, 'alt': 1763.2000732421875, 'accuracyGPS': 20, 'directionEastWest': 'E', 'directionNorthSouth': 'S', 'accuracy': None, 'accX': 0, 'accY': 0, 'accZ': 0, 'rssi': 0, 'date': '2022-02-01T21:00:00', 'time': '14:28:46', 'id': 747}\n",
      "\n",
      "\n",
      "{'uniqueDeviceId': 'Infinix X559_3eb86d58-c7f7-4166-ae0e-375c023ab688', 'lat': -0.3991471, 'long': 36.9627145, 'alt': 1763.2000732421875, 'accuracyGPS': 20, 'directionEastWest': 'E', 'directionNorthSouth': 'S', 'accuracy': None, 'accX': 0, 'accY': 0, 'accZ': 0, 'rssi': 0, 'date': '2022-02-01T21:00:00', 'time': '14:28:46', 'id': 746}\n",
      "\n",
      "\n"
     ]
    }
   ],
   "source": [
    "loc_compact  = []\n",
    "for loc in data:\n",
    "    print(loc) \n",
    "    loc_compact.append([loc['lat'],loc['long']])\n",
    "    print('\\n')"
   ]
  },
  {
   "cell_type": "code",
   "execution_count": 5,
   "id": "7c0887db",
   "metadata": {},
   "outputs": [
    {
     "data": {
      "text/plain": [
       "[[-0.39914, 36.96272166666667],\n",
       " [-0.39914, 36.96272166666667],\n",
       " [-0.399085, 36.96265666666667],\n",
       " [-0.399085, 36.96265666666667],\n",
       " [-0.3991, 36.96264833333333],\n",
       " [-0.3991, 36.96264833333333],\n",
       " [-0.399125, 36.96266166666667],\n",
       " [-0.399125, 36.96266166666667],\n",
       " [-0.39908666666666665, 36.96263833333333],\n",
       " [-0.39908666666666665, 36.96263833333333],\n",
       " [-0.3990883333333333, 36.962689999999995],\n",
       " [-0.3990883333333333, 36.962689999999995],\n",
       " [-0.3991465, 36.9627119],\n",
       " [-0.3991465, 36.9627119],\n",
       " [-0.3991406, 36.9627001],\n",
       " [-0.3991406, 36.9627001],\n",
       " [-0.3991466, 36.9627157],\n",
       " [-0.3991466, 36.9627157],\n",
       " [-0.3991471, 36.9627145],\n",
       " [-0.3991471, 36.9627145]]"
      ]
     },
     "execution_count": 5,
     "metadata": {},
     "output_type": "execute_result"
    }
   ],
   "source": [
    "loc_compact"
   ]
  },
  {
   "cell_type": "code",
   "execution_count": 6,
   "id": "c9688b36",
   "metadata": {},
   "outputs": [],
   "source": [
    "loc_compact = np.array(loc_compact)"
   ]
  },
  {
   "cell_type": "code",
   "execution_count": 7,
   "id": "bff66603",
   "metadata": {},
   "outputs": [
    {
     "data": {
      "text/plain": [
       "<matplotlib.collections.PathCollection at 0x2a103a65c40>"
      ]
     },
     "execution_count": 7,
     "metadata": {},
     "output_type": "execute_result"
    },
    {
     "data": {
      "image/png": "[encoded data removed]",
      "text/plain": [
       "<Figure size 432x288 with 1 Axes>"
      ]
     },
     "metadata": {
      "needs_background": "light"
     },
     "output_type": "display_data"
    }
   ],
   "source": [
    "#make our own data using the make_blob \n",
    "#X, y = make_blobs(n_samples=300, centers=4, cluster_std=0.60, random_state=0)\n",
    "plt.scatter(loc_compact[:,0], loc_compact[:,1])"
   ]
  },
  {
   "cell_type": "code",
   "execution_count": 8,
   "id": "b6e998d7",
   "metadata": {},
   "outputs": [
    {
     "data": {
      "image/png": "[encoded data removed]",
      "text/plain": [
       "<Figure size 432x288 with 1 Axes>"
      ]
     },
     "metadata": {
      "needs_background": "light"
     },
     "output_type": "display_data"
    }
   ],
   "source": [
    "#determine the optimul number of clusters using the elbow method\n",
    "wcss = []\n",
    "for i in range(1, 11):\n",
    "    kmeans = KMeans(n_clusters=i, init='k-means++', max_iter=len(loc_compact), n_init=10, random_state=0)\n",
    "    kmeans.fit(loc_compact)\n",
    "    wcss.append(kmeans.inertia_)\n",
    "plt.plot(range(1, 11), wcss)\n",
    "plt.title('Elbow Method')\n",
    "plt.xlabel('Number of clusters')\n",
    "plt.ylabel('WCSS')\n",
    "plt.show()"
   ]
  },
  {
   "cell_type": "code",
   "execution_count": 9,
   "id": "21fc5d86",
   "metadata": {},
   "outputs": [
    {
     "data": {
      "image/png": "[encoded data removed]",
      "text/plain": [
       "<Figure size 432x288 with 1 Axes>"
      ]
     },
     "metadata": {
      "needs_background": "light"
     },
     "output_type": "display_data"
    }
   ],
   "source": [
    "#determine the centroid for each cluster\n",
    "kmeans = KMeans(n_clusters=2, init='k-means++', max_iter=len(loc_compact), n_init=10, random_state=0)\n",
    "pred_y = kmeans.fit_predict(loc_compact)\n",
    "plt.scatter(loc_compact[:,0], loc_compact[:,1])\n",
    "plt.scatter(kmeans.cluster_centers_[:, 0], kmeans.cluster_centers_[:, 1], s=len(loc_compact), c='red')\n",
    "plt.show()"
   ]
  },
  {
   "cell_type": "code",
   "execution_count": 10,
   "id": "41f84985",
   "metadata": {},
   "outputs": [
    {
     "data": {
      "text/plain": [
       "array([[-0.39914416, 36.96271277],\n",
       "       [-0.399097  , 36.962659  ]])"
      ]
     },
     "execution_count": 10,
     "metadata": {},
     "output_type": "execute_result"
    }
   ],
   "source": [
    "# get the centroids\n",
    "centroids = kmeans.cluster_centers_\n",
    "centroids"
   ]
  },
  {
   "cell_type": "code",
   "execution_count": 11,
   "id": "e3203726",
   "metadata": {},
   "outputs": [
    {
     "data": {
      "text/plain": [
       "[0, 0, 1, 1, 1, 1, 1, 1, 1, 1, 1, 1, 0, 0, 0, 0, 0, 0, 0, 0]"
      ]
     },
     "execution_count": 11,
     "metadata": {},
     "output_type": "execute_result"
    }
   ],
   "source": [
    "#pick the largest cluster using the length of labels\n",
    "labels =list(kmeans.labels_)\n",
    "labels"
   ]
  },
  {
   "cell_type": "code",
   "execution_count": 12,
   "id": "97edf72d",
   "metadata": {},
   "outputs": [
    {
     "data": {
      "text/plain": [
       "[0, 1]"
      ]
     },
     "execution_count": 12,
     "metadata": {},
     "output_type": "execute_result"
    }
   ],
   "source": [
    "#get unique elements, and use as classes\n",
    "classes = list(set(labels))\n",
    "classes"
   ]
  },
  {
   "cell_type": "code",
   "execution_count": 13,
   "id": "b03bdad9",
   "metadata": {},
   "outputs": [
    {
     "data": {
      "text/plain": [
       "Counter({0: 10, 1: 10})"
      ]
     },
     "execution_count": 13,
     "metadata": {},
     "output_type": "execute_result"
    }
   ],
   "source": [
    "#find the largest cluster\n",
    "unique = Counter(labels)\n",
    "unique"
   ]
  },
  {
   "cell_type": "code",
   "execution_count": 14,
   "id": "67ebfbde",
   "metadata": {},
   "outputs": [
    {
     "data": {
      "text/plain": [
       "0"
      ]
     },
     "execution_count": 14,
     "metadata": {},
     "output_type": "execute_result"
    }
   ],
   "source": [
    "bigger_cluster = max(unique, key=unique.get)\n",
    "bigger_cluster"
   ]
  },
  {
   "cell_type": "code",
   "execution_count": 15,
   "id": "cf626b6b",
   "metadata": {},
   "outputs": [
    {
     "data": {
      "text/plain": [
       "array([-0.39914416, 36.96271277])"
      ]
     },
     "execution_count": 15,
     "metadata": {},
     "output_type": "execute_result"
    }
   ],
   "source": [
    "centroids[bigger_cluster]"
   ]
  },
  {
   "cell_type": "markdown",
   "id": "c3ce611a",
   "metadata": {},
   "source": [
    "## Calculate the bearing\n",
    "##  source https://towardsdatascience.com/calculating-the-bearing-between-two-geospatial-coordinates-66203f57e4b4"
   ]
  },
  {
   "cell_type": "code",
   "execution_count": 16,
   "id": "7e56c0d6",
   "metadata": {},
   "outputs": [],
   "source": [
    "from numpy import arctan2,random,sin,cos,degrees\n",
    "import math"
   ]
  },
  {
   "cell_type": "code",
   "execution_count": 17,
   "id": "39ecb119",
   "metadata": {},
   "outputs": [],
   "source": [
    "a = {'lat': -0.399754, 'lon': 36.96256867}\n",
    "b = {'lat': -0.39942161, 'lon': 36.96269837}"
   ]
  },
  {
   "cell_type": "code",
   "execution_count": 18,
   "id": "d7ca5951",
   "metadata": {},
   "outputs": [
    {
     "data": {
      "text/plain": [
       "0.00012969999999512538"
      ]
     },
     "execution_count": 18,
     "metadata": {},
     "output_type": "execute_result"
    }
   ],
   "source": [
    "dL = b['lon'] - a['lon']\n",
    "dL"
   ]
  },
  {
   "cell_type": "code",
   "execution_count": 19,
   "id": "655703fa",
   "metadata": {},
   "outputs": [],
   "source": [
    "X = cos(b['lat'])* sin(dL)\n",
    "Y = cos(a['lat'])*sin(b['lat']) - sin(a['lat'])*cos(b['lat'])* cos(dL)"
   ]
  },
  {
   "cell_type": "code",
   "execution_count": 20,
   "id": "cad04740",
   "metadata": {},
   "outputs": [
    {
     "data": {
      "text/plain": [
       "0.345106707989331"
      ]
     },
     "execution_count": 20,
     "metadata": {},
     "output_type": "execute_result"
    }
   ],
   "source": [
    "#in radians\n",
    "bearing_rad = arctan2(X,Y)\n",
    "bearing_rad"
   ]
  },
  {
   "cell_type": "code",
   "execution_count": 21,
   "id": "659ab413",
   "metadata": {},
   "outputs": [],
   "source": [
    "#radians to degrees "
   ]
  },
  {
   "cell_type": "code",
   "execution_count": 22,
   "id": "60841af0",
   "metadata": {},
   "outputs": [
    {
     "data": {
      "text/plain": [
       "19.773157849442395"
      ]
     },
     "execution_count": 22,
     "metadata": {},
     "output_type": "execute_result"
    }
   ],
   "source": [
    "bearing_degrees = bearing_rad * (180/math.pi)\n",
    "bearing_degrees"
   ]
  },
  {
   "cell_type": "code",
   "execution_count": null,
   "id": "0e6d718c",
   "metadata": {},
   "outputs": [],
   "source": []
  }
 ],
 "metadata": {
  "kernelspec": {
   "display_name": "Python 3 (ipykernel)",
   "language": "python",
   "name": "python3"
  },
  "language_info": {
   "codemirror_mode": {
    "name": "ipython",
    "version": 3
   },
   "file_extension": ".py",
   "mimetype": "text/x-python",
   "name": "python",
   "nbconvert_exporter": "python",
   "pygments_lexer": "ipython3",
   "version": "3.9.7"
  }
 },
 "nbformat": 4,
 "nbformat_minor": 5
}
