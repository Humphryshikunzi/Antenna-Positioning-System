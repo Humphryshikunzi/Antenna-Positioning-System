{
 "cells": [
  {
   "cell_type": "code",
   "execution_count": 24,
   "id": "a76ad984",
   "metadata": {},
   "outputs": [
    {
     "name": "stderr",
     "output_type": "stream",
     "text": [
      "C:\\Users\\humph\\Anaconda3\\lib\\site-packages\\sklearn\\utils\\deprecation.py:143: FutureWarning: The sklearn.datasets.samples_generator module is  deprecated in version 0.22 and will be removed in version 0.24. The corresponding classes / functions should instead be imported from sklearn.datasets. Anything that cannot be imported from sklearn.datasets is now part of the private API.\n",
      "  warnings.warn(message, FutureWarning)\n"
     ]
    }
   ],
   "source": [
    "import requests\n",
    "import json\n",
    "import numpy as np\n",
    "import pandas as pd\n",
    "from matplotlib import pyplot as plt\n",
    "from sklearn.datasets.samples_generator import make_blobs\n",
    "from sklearn.cluster import KMeans\n",
    "import random\n",
    "from collections import Counter"
   ]
  },
  {
   "cell_type": "code",
   "execution_count": 13,
   "id": "70ac83aa",
   "metadata": {},
   "outputs": [],
   "source": [
    "url = 'http://odapapi.defrilab.com/api/Odap/recentMessages'"
   ]
  },
  {
   "cell_type": "code",
   "execution_count": 33,
   "id": "e49f6e9e",
   "metadata": {},
   "outputs": [
    {
     "name": "stdout",
     "output_type": "stream",
     "text": [
      "[{'uniqueDeviceId': 'Device4', 'lat': -0.9, 'long': 36.5, 'alt': 1740, 'accuracyGPS': 900, 'directionEastWest': 'S', 'directionNorthSouth': 'E', 'accuracy': 20, 'accX': 0, 'accY': 0, 'accZ': 0, 'rssi': 0, 'id': 4}, {'uniqueDeviceId': 'Device3', 'lat': 0.47, 'long': 46.7, 'alt': 1640, 'accuracyGPS': 900, 'directionEastWest': 'S', 'directionNorthSouth': 'E', 'accuracy': 20, 'accX': 0, 'accY': 0, 'accZ': 0, 'rssi': 0, 'id': 3}, {'uniqueDeviceId': 'Device2', 'lat': -0.87, 'long': 36.7, 'alt': 1640, 'accuracyGPS': 900, 'directionEastWest': 'S', 'directionNorthSouth': 'E', 'accuracy': 20, 'accX': 0, 'accY': 0, 'accZ': 0, 'rssi': 0, 'id': 2}, {'uniqueDeviceId': 'Device1', 'lat': -0.45, 'long': 37, 'alt': 1500, 'accuracyGPS': 900, 'directionEastWest': 'S', 'directionNorthSouth': 'E', 'accuracy': 20, 'accX': 0, 'accY': 0, 'accZ': 0, 'rssi': 0, 'id': 1}]\n"
     ]
    }
   ],
   "source": [
    "response = requests.get(url)\n",
    "str_data = response.json()\n",
    "print(str_data)"
   ]
  },
  {
   "cell_type": "code",
   "execution_count": 34,
   "id": "f6294ea1",
   "metadata": {},
   "outputs": [
    {
     "name": "stdout",
     "output_type": "stream",
     "text": [
      "{'uniqueDeviceId': 'Device4', 'lat': -0.9, 'long': 36.5, 'alt': 1740, 'accuracyGPS': 900, 'directionEastWest': 'S', 'directionNorthSouth': 'E', 'accuracy': 20, 'accX': 0, 'accY': 0, 'accZ': 0, 'rssi': 0, 'id': 4}\n",
      "\n",
      "\n",
      "{'uniqueDeviceId': 'Device3', 'lat': 0.47, 'long': 46.7, 'alt': 1640, 'accuracyGPS': 900, 'directionEastWest': 'S', 'directionNorthSouth': 'E', 'accuracy': 20, 'accX': 0, 'accY': 0, 'accZ': 0, 'rssi': 0, 'id': 3}\n",
      "\n",
      "\n",
      "{'uniqueDeviceId': 'Device2', 'lat': -0.87, 'long': 36.7, 'alt': 1640, 'accuracyGPS': 900, 'directionEastWest': 'S', 'directionNorthSouth': 'E', 'accuracy': 20, 'accX': 0, 'accY': 0, 'accZ': 0, 'rssi': 0, 'id': 2}\n",
      "\n",
      "\n",
      "{'uniqueDeviceId': 'Device1', 'lat': -0.45, 'long': 37, 'alt': 1500, 'accuracyGPS': 900, 'directionEastWest': 'S', 'directionNorthSouth': 'E', 'accuracy': 20, 'accX': 0, 'accY': 0, 'accZ': 0, 'rssi': 0, 'id': 1}\n",
      "\n",
      "\n"
     ]
    }
   ],
   "source": [
    "loc_compact  = []\n",
    "for loc in str_data:\n",
    "    print(loc) \n",
    "    loc_compact.append([loc['lat'],loc['long']])\n",
    "    print('\\n')"
   ]
  },
  {
   "cell_type": "code",
   "execution_count": 35,
   "id": "7c0887db",
   "metadata": {},
   "outputs": [
    {
     "data": {
      "text/plain": [
       "[[-0.9, 36.5], [0.47, 46.7], [-0.87, 36.7], [-0.45, 37]]"
      ]
     },
     "execution_count": 35,
     "metadata": {},
     "output_type": "execute_result"
    }
   ],
   "source": [
    "loc_compact"
   ]
  },
  {
   "cell_type": "code",
   "execution_count": 39,
   "id": "c9688b36",
   "metadata": {},
   "outputs": [],
   "source": [
    "loc_compact = np.array(loc_compact)"
   ]
  },
  {
   "cell_type": "code",
   "execution_count": 40,
   "id": "bff66603",
   "metadata": {},
   "outputs": [
    {
     "data": {
      "text/plain": [
       "<matplotlib.collections.PathCollection at 0x1e3a33fd1f0>"
      ]
     },
     "execution_count": 40,
     "metadata": {},
     "output_type": "execute_result"
    },
    {
     "data": {
      "image/png": "[encoded data removed]",
      "text/plain": [
       "<Figure size 432x288 with 1 Axes>"
      ]
     },
     "metadata": {
      "needs_background": "light"
     },
     "output_type": "display_data"
    }
   ],
   "source": [
    "#make our own data using the make_blob \n",
    "#X, y = make_blobs(n_samples=300, centers=4, cluster_std=0.60, random_state=0)\n",
    "plt.scatter(loc_compact[:,0], loc_compact[:,1])"
   ]
  },
  {
   "cell_type": "code",
   "execution_count": 41,
   "id": "b6e998d7",
   "metadata": {},
   "outputs": [
    {
     "ename": "ValueError",
     "evalue": "n_samples=4 should be >= n_clusters=5",
     "output_type": "error",
     "traceback": [
      "\u001b[1;31m---------------------------------------------------------------------------\u001b[0m",
      "\u001b[1;31mValueError\u001b[0m                                Traceback (most recent call last)",
      "\u001b[1;32m~\\AppData\\Local\\Temp/ipykernel_20252/2230955258.py\u001b[0m in \u001b[0;36m<module>\u001b[1;34m\u001b[0m\n\u001b[0;32m      3\u001b[0m \u001b[1;32mfor\u001b[0m \u001b[0mi\u001b[0m \u001b[1;32min\u001b[0m \u001b[0mrange\u001b[0m\u001b[1;33m(\u001b[0m\u001b[1;36m1\u001b[0m\u001b[1;33m,\u001b[0m \u001b[1;36m11\u001b[0m\u001b[1;33m)\u001b[0m\u001b[1;33m:\u001b[0m\u001b[1;33m\u001b[0m\u001b[1;33m\u001b[0m\u001b[0m\n\u001b[0;32m      4\u001b[0m     \u001b[0mkmeans\u001b[0m \u001b[1;33m=\u001b[0m \u001b[0mKMeans\u001b[0m\u001b[1;33m(\u001b[0m\u001b[0mn_clusters\u001b[0m\u001b[1;33m=\u001b[0m\u001b[0mi\u001b[0m\u001b[1;33m,\u001b[0m \u001b[0minit\u001b[0m\u001b[1;33m=\u001b[0m\u001b[1;34m'k-means++'\u001b[0m\u001b[1;33m,\u001b[0m \u001b[0mmax_iter\u001b[0m\u001b[1;33m=\u001b[0m\u001b[0mlen\u001b[0m\u001b[1;33m(\u001b[0m\u001b[0mloc_compact\u001b[0m\u001b[1;33m)\u001b[0m\u001b[1;33m,\u001b[0m \u001b[0mn_init\u001b[0m\u001b[1;33m=\u001b[0m\u001b[1;36m10\u001b[0m\u001b[1;33m,\u001b[0m \u001b[0mrandom_state\u001b[0m\u001b[1;33m=\u001b[0m\u001b[1;36m0\u001b[0m\u001b[1;33m)\u001b[0m\u001b[1;33m\u001b[0m\u001b[1;33m\u001b[0m\u001b[0m\n\u001b[1;32m----> 5\u001b[1;33m     \u001b[0mkmeans\u001b[0m\u001b[1;33m.\u001b[0m\u001b[0mfit\u001b[0m\u001b[1;33m(\u001b[0m\u001b[0mloc_compact\u001b[0m\u001b[1;33m)\u001b[0m\u001b[1;33m\u001b[0m\u001b[1;33m\u001b[0m\u001b[0m\n\u001b[0m\u001b[0;32m      6\u001b[0m     \u001b[0mwcss\u001b[0m\u001b[1;33m.\u001b[0m\u001b[0mappend\u001b[0m\u001b[1;33m(\u001b[0m\u001b[0mkmeans\u001b[0m\u001b[1;33m.\u001b[0m\u001b[0minertia_\u001b[0m\u001b[1;33m)\u001b[0m\u001b[1;33m\u001b[0m\u001b[1;33m\u001b[0m\u001b[0m\n\u001b[0;32m      7\u001b[0m \u001b[0mplt\u001b[0m\u001b[1;33m.\u001b[0m\u001b[0mplot\u001b[0m\u001b[1;33m(\u001b[0m\u001b[0mrange\u001b[0m\u001b[1;33m(\u001b[0m\u001b[1;36m1\u001b[0m\u001b[1;33m,\u001b[0m \u001b[1;36m11\u001b[0m\u001b[1;33m)\u001b[0m\u001b[1;33m,\u001b[0m \u001b[0mwcss\u001b[0m\u001b[1;33m)\u001b[0m\u001b[1;33m\u001b[0m\u001b[1;33m\u001b[0m\u001b[0m\n",
      "\u001b[1;32m~\\Anaconda3\\lib\\site-packages\\sklearn\\cluster\\_kmeans.py\u001b[0m in \u001b[0;36mfit\u001b[1;34m(self, X, y, sample_weight)\u001b[0m\n\u001b[0;32m    995\u001b[0m         \u001b[1;31m# verify that the number of samples given is larger than k\u001b[0m\u001b[1;33m\u001b[0m\u001b[1;33m\u001b[0m\u001b[1;33m\u001b[0m\u001b[0m\n\u001b[0;32m    996\u001b[0m         \u001b[1;32mif\u001b[0m \u001b[0m_num_samples\u001b[0m\u001b[1;33m(\u001b[0m\u001b[0mX\u001b[0m\u001b[1;33m)\u001b[0m \u001b[1;33m<\u001b[0m \u001b[0mself\u001b[0m\u001b[1;33m.\u001b[0m\u001b[0mn_clusters\u001b[0m\u001b[1;33m:\u001b[0m\u001b[1;33m\u001b[0m\u001b[1;33m\u001b[0m\u001b[0m\n\u001b[1;32m--> 997\u001b[1;33m             raise ValueError(\"n_samples=%d should be >= n_clusters=%d\" % (\n\u001b[0m\u001b[0;32m    998\u001b[0m                 _num_samples(X), self.n_clusters))\n\u001b[0;32m    999\u001b[0m \u001b[1;33m\u001b[0m\u001b[0m\n",
      "\u001b[1;31mValueError\u001b[0m: n_samples=4 should be >= n_clusters=5"
     ]
    }
   ],
   "source": [
    "#determine the optimul number of clusters using the elbow method\n",
    "wcss = []\n",
    "for i in range(1, 11):\n",
    "    kmeans = KMeans(n_clusters=i, init='k-means++', max_iter=len(loc_compact), n_init=10, random_state=0)\n",
    "    kmeans.fit(loc_compact)\n",
    "    wcss.append(kmeans.inertia_)\n",
    "plt.plot(range(1, 11), wcss)\n",
    "plt.title('Elbow Method')\n",
    "plt.xlabel('Number of clusters')\n",
    "plt.ylabel('WCSS')\n",
    "plt.show()"
   ]
  },
  {
   "cell_type": "code",
   "execution_count": 43,
   "id": "21fc5d86",
   "metadata": {},
   "outputs": [
    {
     "data": {
      "image/png": "[encoded data removed]",
      "text/plain": [
       "<Figure size 432x288 with 1 Axes>"
      ]
     },
     "metadata": {
      "needs_background": "light"
     },
     "output_type": "display_data"
    }
   ],
   "source": [
    "#determine the centroid for each cluster\n",
    "kmeans = KMeans(n_clusters=2, init='k-means++', max_iter=len(loc_compact), n_init=10, random_state=0)\n",
    "pred_y = kmeans.fit_predict(loc_compact)\n",
    "plt.scatter(loc_compact[:,0], loc_compact[:,1])\n",
    "plt.scatter(kmeans.cluster_centers_[:, 0], kmeans.cluster_centers_[:, 1], s=len(loc_compact), c='red')\n",
    "plt.show()"
   ]
  },
  {
   "cell_type": "code",
   "execution_count": 44,
   "id": "41f84985",
   "metadata": {},
   "outputs": [
    {
     "data": {
      "text/plain": [
       "array([[-0.74      , 36.73333333],\n",
       "       [ 0.47      , 46.7       ]])"
      ]
     },
     "execution_count": 44,
     "metadata": {},
     "output_type": "execute_result"
    }
   ],
   "source": [
    "# get the centroids\n",
    "centroids = kmeans.cluster_centers_\n",
    "centroids"
   ]
  },
  {
   "cell_type": "code",
   "execution_count": 45,
   "id": "e3203726",
   "metadata": {},
   "outputs": [
    {
     "data": {
      "text/plain": [
       "[0, 1, 0, 0]"
      ]
     },
     "execution_count": 45,
     "metadata": {},
     "output_type": "execute_result"
    }
   ],
   "source": [
    "#pick the largest cluster using the length of labels\n",
    "labels =list(kmeans.labels_)\n",
    "labels"
   ]
  },
  {
   "cell_type": "code",
   "execution_count": 46,
   "id": "97edf72d",
   "metadata": {},
   "outputs": [
    {
     "data": {
      "text/plain": [
       "[0, 1]"
      ]
     },
     "execution_count": 46,
     "metadata": {},
     "output_type": "execute_result"
    }
   ],
   "source": [
    "#get unique elements, and use as classes\n",
    "classes = list(set(labels))\n",
    "classes"
   ]
  },
  {
   "cell_type": "code",
   "execution_count": 47,
   "id": "b03bdad9",
   "metadata": {},
   "outputs": [
    {
     "data": {
      "text/plain": [
       "Counter({0: 3, 1: 1})"
      ]
     },
     "execution_count": 47,
     "metadata": {},
     "output_type": "execute_result"
    }
   ],
   "source": [
    "#find the largest cluster\n",
    "unique = Counter(labels)\n",
    "unique"
   ]
  },
  {
   "cell_type": "code",
   "execution_count": 48,
   "id": "67ebfbde",
   "metadata": {},
   "outputs": [
    {
     "data": {
      "text/plain": [
       "0"
      ]
     },
     "execution_count": 48,
     "metadata": {},
     "output_type": "execute_result"
    }
   ],
   "source": [
    "bigger_cluster = max(unique, key=unique.get)\n",
    "bigger_cluster"
   ]
  },
  {
   "cell_type": "code",
   "execution_count": 49,
   "id": "cf626b6b",
   "metadata": {},
   "outputs": [
    {
     "data": {
      "text/plain": [
       "array([-0.74      , 36.73333333])"
      ]
     },
     "execution_count": 49,
     "metadata": {},
     "output_type": "execute_result"
    }
   ],
   "source": [
    "centroids[bigger_cluster]"
   ]
  },
  {
   "cell_type": "code",
   "execution_count": null,
   "id": "b416a474",
   "metadata": {},
   "outputs": [],
   "source": []
  }
 ],
 "metadata": {
  "kernelspec": {
   "display_name": "Python 3 (ipykernel)",
   "language": "python",
   "name": "python3"
  },
  "language_info": {
   "codemirror_mode": {
    "name": "ipython",
    "version": 3
   },
   "file_extension": ".py",
   "mimetype": "text/x-python",
   "name": "python",
   "nbconvert_exporter": "python",
   "pygments_lexer": "ipython3",
   "version": "3.8.3"
  }
 },
 "nbformat": 4,
 "nbformat_minor": 5
}
